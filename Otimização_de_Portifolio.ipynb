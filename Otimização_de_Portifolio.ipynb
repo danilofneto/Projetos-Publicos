{
  "nbformat": 4,
  "nbformat_minor": 0,
  "metadata": {
    "colab": {
      "name": "Otimização de Portifolio.ipynb",
      "provenance": []
    },
    "kernelspec": {
      "name": "python3",
      "display_name": "Python 3"
    }
  },
  "cells": [
    {
      "cell_type": "markdown",
      "metadata": {
        "id": "TflYiaa4yhyE"
      },
      "source": [
        "# Otimização de portifólio de ações usando Python"
      ]
    },
    {
      "cell_type": "markdown",
      "metadata": {
        "id": "Wc5FspxmMOBI"
      },
      "source": [
        "  A otimização de carteiras é o processo de seleção da melhor carteira (distribuição de ativos), do conjunto de todas as carteiras consideradas, de acordo com algum objetivo. O objetivo normalmente maximiza fatores como retorno esperado e minimiza custos como risco financeiro.\r\n",
        "-[Wikipedia](https://en.wikipedia.org/wiki/Portfolio_optimization)"
      ]
    },
    {
      "cell_type": "markdown",
      "metadata": {
        "id": "B10nxnbQMxXP"
      },
      "source": [
        "  Neste Notebook, vou mostrar como criar um programa para otimizar uma carteira de ações usando a fronteira eficiente e Python! Na [teoria moderna de portifólio](https://pt.wikipedia.org/wiki/Teoria_moderna_do_portf%C3%B3lio), a fronteira eficiente é uma carteira de investimento que ocupa as partes \"eficientes\" do espectro de risco-retorno. Formalmente, é o conjunto de carteiras que satisfazem a condição de que não exista outra carteira com maior retorno esperado, mas com o mesmo desvio padrão de retorno."
      ]
    },
    {
      "cell_type": "code",
      "metadata": {
        "id": "aM1cLloFLf84"
      },
      "source": [
        "# Import the python libraries\r\n",
        "from pandas_datareader import data as web\r\n",
        "import pandas as pd\r\n",
        "import numpy as np\r\n",
        "from datetime import datetime\r\n",
        "import matplotlib.pyplot as plt\r\n",
        "plt.style.use('fivethirtyeight')"
      ],
      "execution_count": 1,
      "outputs": []
    },
    {
      "cell_type": "markdown",
      "metadata": {
        "id": "glb7mDn6NmBe"
      },
      "source": [
        "## 1 Criando um portifólio fictício\r\n",
        "Neste notebook vou usar as ações de empresas de tecnologia conhecidas como FAANG (Facebook, Amazon , Apple, Netflix e Google)."
      ]
    },
    {
      "cell_type": "code",
      "metadata": {
        "colab": {
          "base_uri": "https://localhost:8080/"
        },
        "id": "kXHtTWNcNc8c",
        "outputId": "d52b5abc-bcd1-4bea-cae2-dad6f2f7e382"
      },
      "source": [
        "# lista com os stickers das ações\r\n",
        "assets = [\"FB\", \"AMZN\", \"AAPL\", \"NFLX\", \"GOOG\"]\r\n",
        "assets"
      ],
      "execution_count": 4,
      "outputs": [
        {
          "output_type": "execute_result",
          "data": {
            "text/plain": [
              "['FB', 'AMZN', 'AAPL', 'NFLX', 'GOOG']"
            ]
          },
          "metadata": {
            "tags": []
          },
          "execution_count": 4
        }
      ]
    },
    {
      "cell_type": "markdown",
      "metadata": {
        "id": "x8Am13CJOmTS"
      },
      "source": [
        "## 1.1 Definindo os pesos das ações no portifólio (5 * 20%)"
      ]
    },
    {
      "cell_type": "code",
      "metadata": {
        "colab": {
          "base_uri": "https://localhost:8080/"
        },
        "id": "Qf7WDwgLObyW",
        "outputId": "5f16e540-e4b4-44da-8542-534fa9e69df5"
      },
      "source": [
        "weights = np.array([0.2, 0.2, 0.2, 0.2, 0.2])\r\n",
        "weights"
      ],
      "execution_count": 3,
      "outputs": [
        {
          "output_type": "execute_result",
          "data": {
            "text/plain": [
              "array([0.2, 0.2, 0.2, 0.2, 0.2])"
            ]
          },
          "metadata": {
            "tags": []
          },
          "execution_count": 3
        }
      ]
    },
    {
      "cell_type": "code",
      "metadata": {
        "id": "cAI2TaTlO6TK"
      },
      "source": [
        "# data de inicio\r\n",
        "stockStartDate = '2013-01-01'\r\n",
        "\r\n",
        "# data de fim\r\n",
        "today = datetime.today().strftime('%Y-%m-%d')"
      ],
      "execution_count": 5,
      "outputs": []
    },
    {
      "cell_type": "code",
      "metadata": {
        "id": "d6BgCA8hPPQh"
      },
      "source": [
        "# cria o dataframe que irá armazenar o Adj Close das ações\r\n",
        "df = pd.DataFrame()\r\n",
        "\r\n",
        "# obtendo os dados do yahoo.finance\r\n",
        "for stock in assets:\r\n",
        "  df[stock] = web.DataReader(stock, data_source='yahoo', start=stockStartDate, end = today)['Adj Close']"
      ],
      "execution_count": 7,
      "outputs": []
    },
    {
      "cell_type": "code",
      "metadata": {
        "colab": {
          "base_uri": "https://localhost:8080/",
          "height": 450
        },
        "id": "m9W3mPqTQVMF",
        "outputId": "b14906a1-91f0-4def-ac77-18547e517ba7"
      },
      "source": [
        "# mostrando o dataframe\r\n",
        "df"
      ],
      "execution_count": 10,
      "outputs": [
        {
          "output_type": "execute_result",
          "data": {
            "text/html": [
              "<div>\n",
              "<style scoped>\n",
              "    .dataframe tbody tr th:only-of-type {\n",
              "        vertical-align: middle;\n",
              "    }\n",
              "\n",
              "    .dataframe tbody tr th {\n",
              "        vertical-align: top;\n",
              "    }\n",
              "\n",
              "    .dataframe thead th {\n",
              "        text-align: right;\n",
              "    }\n",
              "</style>\n",
              "<table border=\"1\" class=\"dataframe\">\n",
              "  <thead>\n",
              "    <tr style=\"text-align: right;\">\n",
              "      <th></th>\n",
              "      <th>FB</th>\n",
              "      <th>AMZN</th>\n",
              "      <th>AAPL</th>\n",
              "      <th>NFLX</th>\n",
              "      <th>GOOG</th>\n",
              "    </tr>\n",
              "    <tr>\n",
              "      <th>Date</th>\n",
              "      <th></th>\n",
              "      <th></th>\n",
              "      <th></th>\n",
              "      <th></th>\n",
              "      <th></th>\n",
              "    </tr>\n",
              "  </thead>\n",
              "  <tbody>\n",
              "    <tr>\n",
              "      <th>2013-01-02</th>\n",
              "      <td>28.000000</td>\n",
              "      <td>257.309998</td>\n",
              "      <td>17.065252</td>\n",
              "      <td>13.144286</td>\n",
              "      <td>360.274597</td>\n",
              "    </tr>\n",
              "    <tr>\n",
              "      <th>2013-01-03</th>\n",
              "      <td>27.770000</td>\n",
              "      <td>258.480011</td>\n",
              "      <td>16.849854</td>\n",
              "      <td>13.798572</td>\n",
              "      <td>360.483826</td>\n",
              "    </tr>\n",
              "    <tr>\n",
              "      <th>2013-01-04</th>\n",
              "      <td>28.760000</td>\n",
              "      <td>259.149994</td>\n",
              "      <td>16.380503</td>\n",
              "      <td>13.711429</td>\n",
              "      <td>367.607117</td>\n",
              "    </tr>\n",
              "    <tr>\n",
              "      <th>2013-01-07</th>\n",
              "      <td>29.420000</td>\n",
              "      <td>268.459991</td>\n",
              "      <td>16.284145</td>\n",
              "      <td>14.171429</td>\n",
              "      <td>366.003143</td>\n",
              "    </tr>\n",
              "    <tr>\n",
              "      <th>2013-01-08</th>\n",
              "      <td>29.059999</td>\n",
              "      <td>266.380005</td>\n",
              "      <td>16.327978</td>\n",
              "      <td>13.880000</td>\n",
              "      <td>365.280823</td>\n",
              "    </tr>\n",
              "    <tr>\n",
              "      <th>...</th>\n",
              "      <td>...</td>\n",
              "      <td>...</td>\n",
              "      <td>...</td>\n",
              "      <td>...</td>\n",
              "      <td>...</td>\n",
              "    </tr>\n",
              "    <tr>\n",
              "      <th>2020-12-15</th>\n",
              "      <td>275.549988</td>\n",
              "      <td>3165.120117</td>\n",
              "      <td>127.879997</td>\n",
              "      <td>519.780029</td>\n",
              "      <td>1767.770020</td>\n",
              "    </tr>\n",
              "    <tr>\n",
              "      <th>2020-12-16</th>\n",
              "      <td>275.670013</td>\n",
              "      <td>3240.959961</td>\n",
              "      <td>127.809998</td>\n",
              "      <td>524.830017</td>\n",
              "      <td>1763.000000</td>\n",
              "    </tr>\n",
              "    <tr>\n",
              "      <th>2020-12-17</th>\n",
              "      <td>274.480011</td>\n",
              "      <td>3236.080078</td>\n",
              "      <td>128.699997</td>\n",
              "      <td>532.900024</td>\n",
              "      <td>1747.900024</td>\n",
              "    </tr>\n",
              "    <tr>\n",
              "      <th>2020-12-18</th>\n",
              "      <td>276.399994</td>\n",
              "      <td>3201.649902</td>\n",
              "      <td>126.660004</td>\n",
              "      <td>534.450012</td>\n",
              "      <td>1731.010010</td>\n",
              "    </tr>\n",
              "    <tr>\n",
              "      <th>2020-12-21</th>\n",
              "      <td>272.790009</td>\n",
              "      <td>3206.179932</td>\n",
              "      <td>128.229996</td>\n",
              "      <td>528.909973</td>\n",
              "      <td>1739.369995</td>\n",
              "    </tr>\n",
              "  </tbody>\n",
              "</table>\n",
              "<p>2008 rows × 5 columns</p>\n",
              "</div>"
            ],
            "text/plain": [
              "                    FB         AMZN        AAPL        NFLX         GOOG\n",
              "Date                                                                    \n",
              "2013-01-02   28.000000   257.309998   17.065252   13.144286   360.274597\n",
              "2013-01-03   27.770000   258.480011   16.849854   13.798572   360.483826\n",
              "2013-01-04   28.760000   259.149994   16.380503   13.711429   367.607117\n",
              "2013-01-07   29.420000   268.459991   16.284145   14.171429   366.003143\n",
              "2013-01-08   29.059999   266.380005   16.327978   13.880000   365.280823\n",
              "...                ...          ...         ...         ...          ...\n",
              "2020-12-15  275.549988  3165.120117  127.879997  519.780029  1767.770020\n",
              "2020-12-16  275.670013  3240.959961  127.809998  524.830017  1763.000000\n",
              "2020-12-17  274.480011  3236.080078  128.699997  532.900024  1747.900024\n",
              "2020-12-18  276.399994  3201.649902  126.660004  534.450012  1731.010010\n",
              "2020-12-21  272.790009  3206.179932  128.229996  528.909973  1739.369995\n",
              "\n",
              "[2008 rows x 5 columns]"
            ]
          },
          "metadata": {
            "tags": []
          },
          "execution_count": 10
        }
      ]
    },
    {
      "cell_type": "code",
      "metadata": {
        "id": "FIkFn6eEVyW_",
        "outputId": "4dd2434e-62dd-492f-a8aa-db0ac36fa202",
        "colab": {
          "base_uri": "https://localhost:8080/"
        }
      },
      "source": [
        "len(df)"
      ],
      "execution_count": 18,
      "outputs": [
        {
          "output_type": "execute_result",
          "data": {
            "text/plain": [
              "2008"
            ]
          },
          "metadata": {
            "tags": []
          },
          "execution_count": 18
        }
      ]
    },
    {
      "cell_type": "code",
      "metadata": {
        "colab": {
          "base_uri": "https://localhost:8080/",
          "height": 518
        },
        "id": "7AxFqM6pQezS",
        "outputId": "585d0dfc-41dc-4703-b4c3-7273738ffe90"
      },
      "source": [
        "# Visualizando nossas ações\r\n",
        "title = 'Portfolio Adj. Close Price History'\r\n",
        "\r\n",
        "# Obtendo os dados para o gráfico\r\n",
        "my_stocks = df\r\n",
        "\r\n",
        "#Create and plot the graph\r\n",
        "plt.figure(figsize=(17,8)) \r\n",
        "\r\n",
        "# obtendo as ações por dia\r\n",
        "for c in my_stocks.columns.values:\r\n",
        "  plt.plot( my_stocks[c],  label=c)\r\n",
        "\r\n",
        "  \r\n",
        "plt.title(title)\r\n",
        "plt.xlabel('Date',fontsize=18)\r\n",
        "plt.ylabel('Adj. Price USD ($)',fontsize=18)\r\n",
        "plt.legend(my_stocks.columns.values, loc='upper left')\r\n",
        "plt.show()"
      ],
      "execution_count": 15,
      "outputs": [
        {
          "output_type": "display_data",
          "data": {
            "image/png": "[encoded data removed]",
            "text/plain": [
              "<Figure size 1224x576 with 1 Axes>"
            ]
          },
          "metadata": {
            "tags": [],
            "needs_background": "light"
          }
        }
      ]
    },
    {
      "cell_type": "markdown",
      "metadata": {
        "id": "cLk703ZMTreS"
      },
      "source": [
        "# 2 - Cálculos Financeiros\r\n",
        "Para visualizarmos os retornos diários precisamos calcular o (preço_novo + -preço_antigo)/preço_antigo ou (preço_novo / preço_antigo)-1."
      ]
    },
    {
      "cell_type": "code",
      "metadata": {
        "id": "ZM5PZjPJR8m8",
        "outputId": "165ad379-7cde-4e0d-8538-69bf769fccf2",
        "colab": {
          "base_uri": "https://localhost:8080/",
          "height": 450
        }
      },
      "source": [
        "# a função pct_change nos informa o retorno diário\r\n",
        "returns = df.pct_change() \r\n",
        "returns"
      ],
      "execution_count": 17,
      "outputs": [
        {
          "output_type": "execute_result",
          "data": {
            "text/html": [
              "<div>\n",
              "<style scoped>\n",
              "    .dataframe tbody tr th:only-of-type {\n",
              "        vertical-align: middle;\n",
              "    }\n",
              "\n",
              "    .dataframe tbody tr th {\n",
              "        vertical-align: top;\n",
              "    }\n",
              "\n",
              "    .dataframe thead th {\n",
              "        text-align: right;\n",
              "    }\n",
              "</style>\n",
              "<table border=\"1\" class=\"dataframe\">\n",
              "  <thead>\n",
              "    <tr style=\"text-align: right;\">\n",
              "      <th></th>\n",
              "      <th>FB</th>\n",
              "      <th>AMZN</th>\n",
              "      <th>AAPL</th>\n",
              "      <th>NFLX</th>\n",
              "      <th>GOOG</th>\n",
              "    </tr>\n",
              "    <tr>\n",
              "      <th>Date</th>\n",
              "      <th></th>\n",
              "      <th></th>\n",
              "      <th></th>\n",
              "      <th></th>\n",
              "      <th></th>\n",
              "    </tr>\n",
              "  </thead>\n",
              "  <tbody>\n",
              "    <tr>\n",
              "      <th>2013-01-02</th>\n",
              "      <td>NaN</td>\n",
              "      <td>NaN</td>\n",
              "      <td>NaN</td>\n",
              "      <td>NaN</td>\n",
              "      <td>NaN</td>\n",
              "    </tr>\n",
              "    <tr>\n",
              "      <th>2013-01-03</th>\n",
              "      <td>-0.008214</td>\n",
              "      <td>0.004547</td>\n",
              "      <td>-0.012622</td>\n",
              "      <td>0.049777</td>\n",
              "      <td>0.000581</td>\n",
              "    </tr>\n",
              "    <tr>\n",
              "      <th>2013-01-04</th>\n",
              "      <td>0.035650</td>\n",
              "      <td>0.002592</td>\n",
              "      <td>-0.027855</td>\n",
              "      <td>-0.006315</td>\n",
              "      <td>0.019760</td>\n",
              "    </tr>\n",
              "    <tr>\n",
              "      <th>2013-01-07</th>\n",
              "      <td>0.022949</td>\n",
              "      <td>0.035925</td>\n",
              "      <td>-0.005882</td>\n",
              "      <td>0.033549</td>\n",
              "      <td>-0.004363</td>\n",
              "    </tr>\n",
              "    <tr>\n",
              "      <th>2013-01-08</th>\n",
              "      <td>-0.012237</td>\n",
              "      <td>-0.007748</td>\n",
              "      <td>0.002692</td>\n",
              "      <td>-0.020565</td>\n",
              "      <td>-0.001974</td>\n",
              "    </tr>\n",
              "    <tr>\n",
              "      <th>...</th>\n",
              "      <td>...</td>\n",
              "      <td>...</td>\n",
              "      <td>...</td>\n",
              "      <td>...</td>\n",
              "      <td>...</td>\n",
              "    </tr>\n",
              "    <tr>\n",
              "      <th>2020-12-15</th>\n",
              "      <td>0.004960</td>\n",
              "      <td>0.002582</td>\n",
              "      <td>0.050090</td>\n",
              "      <td>-0.005053</td>\n",
              "      <td>0.004381</td>\n",
              "    </tr>\n",
              "    <tr>\n",
              "      <th>2020-12-16</th>\n",
              "      <td>0.000436</td>\n",
              "      <td>0.023961</td>\n",
              "      <td>-0.000547</td>\n",
              "      <td>0.009716</td>\n",
              "      <td>-0.002698</td>\n",
              "    </tr>\n",
              "    <tr>\n",
              "      <th>2020-12-17</th>\n",
              "      <td>-0.004317</td>\n",
              "      <td>-0.001506</td>\n",
              "      <td>0.006963</td>\n",
              "      <td>0.015376</td>\n",
              "      <td>-0.008565</td>\n",
              "    </tr>\n",
              "    <tr>\n",
              "      <th>2020-12-18</th>\n",
              "      <td>0.006995</td>\n",
              "      <td>-0.010639</td>\n",
              "      <td>-0.015851</td>\n",
              "      <td>0.002909</td>\n",
              "      <td>-0.009663</td>\n",
              "    </tr>\n",
              "    <tr>\n",
              "      <th>2020-12-21</th>\n",
              "      <td>-0.013061</td>\n",
              "      <td>0.001415</td>\n",
              "      <td>0.012395</td>\n",
              "      <td>-0.010366</td>\n",
              "      <td>0.004830</td>\n",
              "    </tr>\n",
              "  </tbody>\n",
              "</table>\n",
              "<p>2008 rows × 5 columns</p>\n",
              "</div>"
            ],
            "text/plain": [
              "                  FB      AMZN      AAPL      NFLX      GOOG\n",
              "Date                                                        \n",
              "2013-01-02       NaN       NaN       NaN       NaN       NaN\n",
              "2013-01-03 -0.008214  0.004547 -0.012622  0.049777  0.000581\n",
              "2013-01-04  0.035650  0.002592 -0.027855 -0.006315  0.019760\n",
              "2013-01-07  0.022949  0.035925 -0.005882  0.033549 -0.004363\n",
              "2013-01-08 -0.012237 -0.007748  0.002692 -0.020565 -0.001974\n",
              "...              ...       ...       ...       ...       ...\n",
              "2020-12-15  0.004960  0.002582  0.050090 -0.005053  0.004381\n",
              "2020-12-16  0.000436  0.023961 -0.000547  0.009716 -0.002698\n",
              "2020-12-17 -0.004317 -0.001506  0.006963  0.015376 -0.008565\n",
              "2020-12-18  0.006995 -0.010639 -0.015851  0.002909 -0.009663\n",
              "2020-12-21 -0.013061  0.001415  0.012395 -0.010366  0.004830\n",
              "\n",
              "[2008 rows x 5 columns]"
            ]
          },
          "metadata": {
            "tags": []
          },
          "execution_count": 17
        }
      ]
    },
    {
      "cell_type": "markdown",
      "metadata": {
        "id": "ymK4WBGBVSFW"
      },
      "source": [
        "## 2.1 Matriz de Covariância\r\n",
        "\r\n",
        " A matriz de covariância é um conceito matemático comumente usado em estatísticas ao comparar amostras de dados de diferentes populações e é usado para determinar o quanto duas variáveis aleatórias variam ou se movem juntas (portanto, é a relação direcional entre dois preços de ativos)\r\n",
        "A diagonal da matriz são as variâncias e as outras entradas são as covariâncias. A variância é uma medida de quanto um conjunto de observações difere um do outro. Se você tirar a raiz quadrada da variância, obterá a volatilidade, também conhecida como desvio padrão.\r\n",
        "Para mostrar a matriz de covariância anualizada, devemos multiplicar a matriz de covariância pelo número de dias de negociação do ano atual. Nesse caso, o número de pregões será de 252 neste ano."
      ]
    },
    {
      "cell_type": "code",
      "metadata": {
        "id": "hwHlbqRRTp7y",
        "outputId": "78eb2bc6-795a-47a4-e62e-48b4a0a1306d",
        "colab": {
          "base_uri": "https://localhost:8080/",
          "height": 204
        }
      },
      "source": [
        "cov_matrix_annual = returns.cov() * 252\r\n",
        "cov_matrix_annual"
      ],
      "execution_count": 19,
      "outputs": [
        {
          "output_type": "execute_result",
          "data": {
            "text/html": [
              "<div>\n",
              "<style scoped>\n",
              "    .dataframe tbody tr th:only-of-type {\n",
              "        vertical-align: middle;\n",
              "    }\n",
              "\n",
              "    .dataframe tbody tr th {\n",
              "        vertical-align: top;\n",
              "    }\n",
              "\n",
              "    .dataframe thead th {\n",
              "        text-align: right;\n",
              "    }\n",
              "</style>\n",
              "<table border=\"1\" class=\"dataframe\">\n",
              "  <thead>\n",
              "    <tr style=\"text-align: right;\">\n",
              "      <th></th>\n",
              "      <th>FB</th>\n",
              "      <th>AMZN</th>\n",
              "      <th>AAPL</th>\n",
              "      <th>NFLX</th>\n",
              "      <th>GOOG</th>\n",
              "    </tr>\n",
              "  </thead>\n",
              "  <tbody>\n",
              "    <tr>\n",
              "      <th>FB</th>\n",
              "      <td>0.118906</td>\n",
              "      <td>0.055121</td>\n",
              "      <td>0.044844</td>\n",
              "      <td>0.056771</td>\n",
              "      <td>0.050435</td>\n",
              "    </tr>\n",
              "    <tr>\n",
              "      <th>AMZN</th>\n",
              "      <td>0.055121</td>\n",
              "      <td>0.094270</td>\n",
              "      <td>0.039824</td>\n",
              "      <td>0.063478</td>\n",
              "      <td>0.047843</td>\n",
              "    </tr>\n",
              "    <tr>\n",
              "      <th>AAPL</th>\n",
              "      <td>0.044844</td>\n",
              "      <td>0.039824</td>\n",
              "      <td>0.081734</td>\n",
              "      <td>0.035137</td>\n",
              "      <td>0.038614</td>\n",
              "    </tr>\n",
              "    <tr>\n",
              "      <th>NFLX</th>\n",
              "      <td>0.056771</td>\n",
              "      <td>0.063478</td>\n",
              "      <td>0.035137</td>\n",
              "      <td>0.211281</td>\n",
              "      <td>0.048690</td>\n",
              "    </tr>\n",
              "    <tr>\n",
              "      <th>GOOG</th>\n",
              "      <td>0.050435</td>\n",
              "      <td>0.047843</td>\n",
              "      <td>0.038614</td>\n",
              "      <td>0.048690</td>\n",
              "      <td>0.066080</td>\n",
              "    </tr>\n",
              "  </tbody>\n",
              "</table>\n",
              "</div>"
            ],
            "text/plain": [
              "            FB      AMZN      AAPL      NFLX      GOOG\n",
              "FB    0.118906  0.055121  0.044844  0.056771  0.050435\n",
              "AMZN  0.055121  0.094270  0.039824  0.063478  0.047843\n",
              "AAPL  0.044844  0.039824  0.081734  0.035137  0.038614\n",
              "NFLX  0.056771  0.063478  0.035137  0.211281  0.048690\n",
              "GOOG  0.050435  0.047843  0.038614  0.048690  0.066080"
            ]
          },
          "metadata": {
            "tags": []
          },
          "execution_count": 19
        }
      ]
    },
    {
      "cell_type": "markdown",
      "metadata": {
        "id": "c4T_l_FkahRX"
      },
      "source": [
        "## 2.2 Variancia do portifólio\r\n",
        "Variância de portfólio esperada = WT * (Matriz de Covariância) * W"
      ]
    },
    {
      "cell_type": "code",
      "metadata": {
        "id": "dIZAN774XA35",
        "outputId": "faf94262-b702-498f-d7f0-a572ec4e7c74",
        "colab": {
          "base_uri": "https://localhost:8080/"
        }
      },
      "source": [
        "# calcula a variação do portifólio\r\n",
        "port_variance = np.dot(weights.T, np.dot(cov_matrix_annual, weights))#.T faz a transposta da matriz de pesos\r\n",
        "port_variance"
      ],
      "execution_count": 20,
      "outputs": [
        {
          "output_type": "execute_result",
          "data": {
            "text/plain": [
              "0.06135129581095938"
            ]
          },
          "metadata": {
            "tags": []
          },
          "execution_count": 20
        }
      ]
    },
    {
      "cell_type": "markdown",
      "metadata": {
        "id": "gwQgpfu2a0_y"
      },
      "source": [
        "## 2.3 Volatilidade do portifólio\r\n",
        "Volatilidade esperada do portfólio = SQRT (WT * (Matriz de Covariância) * W)"
      ]
    },
    {
      "cell_type": "code",
      "metadata": {
        "id": "KdoSdUDlXM3U",
        "outputId": "f97448f1-baff-4ad5-fcdf-239df9463492",
        "colab": {
          "base_uri": "https://localhost:8080/"
        }
      },
      "source": [
        "port_volatility = np.sqrt(port_variance)\r\n",
        "port_volatility"
      ],
      "execution_count": 21,
      "outputs": [
        {
          "output_type": "execute_result",
          "data": {
            "text/plain": [
              "0.2476919373152049"
            ]
          },
          "metadata": {
            "tags": []
          },
          "execution_count": 21
        }
      ]
    },
    {
      "cell_type": "markdown",
      "metadata": {
        "id": "Pe4NS1ppbSt3"
      },
      "source": [
        "## 2.4 Retorno simples anual"
      ]
    },
    {
      "cell_type": "code",
      "metadata": {
        "id": "0Oog0zoYbEfS",
        "outputId": "c9cbc980-6e44-4467-d5c7-3be4f1fd992d",
        "colab": {
          "base_uri": "https://localhost:8080/"
        }
      },
      "source": [
        "portfolioSimpleAnnualReturn = np.sum(returns.mean()*weights) * 252\r\n",
        "portfolioSimpleAnnualReturn"
      ],
      "execution_count": 22,
      "outputs": [
        {
          "output_type": "execute_result",
          "data": {
            "text/plain": [
              "0.3599451462798981"
            ]
          },
          "metadata": {
            "tags": []
          },
          "execution_count": 22
        }
      ]
    },
    {
      "cell_type": "code",
      "metadata": {
        "id": "AMVR9q7EbVkp",
        "outputId": "984ce1b1-d6cb-4655-890a-a7aa7d615de2",
        "colab": {
          "base_uri": "https://localhost:8080/"
        }
      },
      "source": [
        "percent_var = str(round(port_variance, 2) * 100) + '%'\r\n",
        "percent_vols = str(round(port_volatility, 2) * 100) + '%'\r\n",
        "percent_ret = str(round(portfolioSimpleAnnualReturn, 2)*100)+'%'\r\n",
        "print(\"Retorno anual esperado : \"+ percent_ret)\r\n",
        "print('Volatilidade / desvio padrão / risco anual : '+percent_vols)\r\n",
        "print('Variação Anual : '+percent_var)"
      ],
      "execution_count": 23,
      "outputs": [
        {
          "output_type": "stream",
          "text": [
            "Retorno anual esperado : 36.0%\n",
            "Volatilidade / desvio padrão / risco anual : 25.0%\n",
            "Variação Anual : 6.0%\n"
          ],
          "name": "stdout"
        }
      ]
    },
    {
      "cell_type": "markdown",
      "metadata": {
        "id": "s9RngFKlb1V4"
      },
      "source": [
        "Então, agora eu posso ver o retorno anual esperado dos investimentos que é de 36% e o valor do risco dessa carteira que é de 25%, mas podemos fazer melhor, certo?"
      ]
    },
    {
      "cell_type": "markdown",
      "metadata": {
        "id": "NRWzMQYdb_ka"
      },
      "source": [
        "#3 Otimizando o Portifólio\r\n",
        "\r\n",
        "* Agora é hora de otimizar este portfólio, quero otimizar para o máximo retorno com o mínimo de risco. Felizmente, temos uma biblioteca muito útil em python justamente para otimizar portifólios: [pyPortfolioOpt ](https://pyportfolioopt.readthedocs.io/en/latest/UserGuide.html)"
      ]
    },
    {
      "cell_type": "code",
      "metadata": {
        "id": "V4AGgzd5brOK",
        "outputId": "5ac7daf7-0e76-45f7-d7a6-01350f710b75",
        "colab": {
          "base_uri": "https://localhost:8080/"
        }
      },
      "source": [
        "# instalando pyPortfolioOpt\r\n",
        "!pip install PyPortfolioOpt"
      ],
      "execution_count": 24,
      "outputs": [
        {
          "output_type": "stream",
          "text": [
            "Collecting PyPortfolioOpt\n",
            "\u001b[?25l  Downloading https://files.pythonhosted.org/packages/f9/19/1f903f95e2acb95dc4b4275278a7b9f0b2cdae387d815d6219ffb46d6576/PyPortfolioOpt-1.2.7-py3-none-any.whl (48kB)\n",
            "\r\u001b[K     |██████▊                         | 10kB 12.6MB/s eta 0:00:01\r\u001b[K     |█████████████▍                  | 20kB 8.2MB/s eta 0:00:01\r\u001b[K     |████████████████████▏           | 30kB 6.2MB/s eta 0:00:01\r\u001b[K     |██████████████████████████▉     | 40kB 6.1MB/s eta 0:00:01\r\u001b[K     |████████████████████████████████| 51kB 2.8MB/s \n",
            "\u001b[?25hRequirement already satisfied: pandas>=0.19 in /usr/local/lib/python3.6/dist-packages (from PyPortfolioOpt) (1.1.5)\n",
            "Requirement already satisfied: cvxpy<2.0,>=1.0 in /usr/local/lib/python3.6/dist-packages (from PyPortfolioOpt) (1.0.31)\n",
            "Requirement already satisfied: numpy<2.0,>=1.12 in /usr/local/lib/python3.6/dist-packages (from PyPortfolioOpt) (1.19.4)\n",
            "Requirement already satisfied: scipy<2.0,>=1.3 in /usr/local/lib/python3.6/dist-packages (from PyPortfolioOpt) (1.4.1)\n",
            "Requirement already satisfied: cvxopt<2.0,>=1.2 in /usr/local/lib/python3.6/dist-packages (from PyPortfolioOpt) (1.2.5)\n",
            "Requirement already satisfied: python-dateutil>=2.7.3 in /usr/local/lib/python3.6/dist-packages (from pandas>=0.19->PyPortfolioOpt) (2.8.1)\n",
            "Requirement already satisfied: pytz>=2017.2 in /usr/local/lib/python3.6/dist-packages (from pandas>=0.19->PyPortfolioOpt) (2018.9)\n",
            "Requirement already satisfied: scs>=1.1.3 in /usr/local/lib/python3.6/dist-packages (from cvxpy<2.0,>=1.0->PyPortfolioOpt) (2.1.2)\n",
            "Requirement already satisfied: multiprocess in /usr/local/lib/python3.6/dist-packages (from cvxpy<2.0,>=1.0->PyPortfolioOpt) (0.70.11.1)\n",
            "Requirement already satisfied: ecos>=2 in /usr/local/lib/python3.6/dist-packages (from cvxpy<2.0,>=1.0->PyPortfolioOpt) (2.0.7.post1)\n",
            "Requirement already satisfied: osqp>=0.4.1 in /usr/local/lib/python3.6/dist-packages (from cvxpy<2.0,>=1.0->PyPortfolioOpt) (0.6.1)\n",
            "Requirement already satisfied: six>=1.5 in /usr/local/lib/python3.6/dist-packages (from python-dateutil>=2.7.3->pandas>=0.19->PyPortfolioOpt) (1.15.0)\n",
            "Requirement already satisfied: dill>=0.3.3 in /usr/local/lib/python3.6/dist-packages (from multiprocess->cvxpy<2.0,>=1.0->PyPortfolioOpt) (0.3.3)\n",
            "Requirement already satisfied: future in /usr/local/lib/python3.6/dist-packages (from osqp>=0.4.1->cvxpy<2.0,>=1.0->PyPortfolioOpt) (0.16.0)\n",
            "Installing collected packages: PyPortfolioOpt\n",
            "Successfully installed PyPortfolioOpt-1.2.7\n"
          ],
          "name": "stdout"
        }
      ]
    },
    {
      "cell_type": "code",
      "metadata": {
        "id": "2zcA7PqQc8-L"
      },
      "source": [
        "# importando as ferramentas necessárias\r\n",
        "from pypfopt.efficient_frontier import EfficientFrontier\r\n",
        "from pypfopt import risk_models\r\n",
        "from pypfopt import expected_returns"
      ],
      "execution_count": 25,
      "outputs": []
    },
    {
      "cell_type": "code",
      "metadata": {
        "id": "3rGj9inddERB"
      },
      "source": [
        "mu = expected_returns.mean_historical_return(df)#returns.mean() * 252\r\n",
        "S = risk_models.sample_cov(df) #Get the sample covariance matrix"
      ],
      "execution_count": 26,
      "outputs": []
    },
    {
      "cell_type": "code",
      "metadata": {
        "id": "hEC2HHqmdQ2p",
        "outputId": "ce3308e8-9dcf-4646-9eb2-1d1d1c450b63",
        "colab": {
          "base_uri": "https://localhost:8080/"
        }
      },
      "source": [
        "ef = EfficientFrontier(mu, S)\r\n",
        "weights = ef.max_sharpe() \r\n",
        "cleaned_weights = ef.clean_weights() \r\n",
        "print(cleaned_weights) #Nota, os pesos podem ter algum erro de arredondamento, o que significa que eles podem não somar exatamente a 1, mas devem ser próximos\r\n",
        "ef.portfolio_performance(verbose=True)"
      ],
      "execution_count": 27,
      "outputs": [
        {
          "output_type": "stream",
          "text": [
            "OrderedDict([('FB', 0.07921), ('AMZN', 0.30355), ('AAPL', 0.27174), ('NFLX', 0.3455), ('GOOG', 0.0)])\n",
            "Expected annual return: 42.2%\n",
            "Annual volatility: 27.4%\n",
            "Sharpe Ratio: 1.47\n"
          ],
          "name": "stdout"
        },
        {
          "output_type": "execute_result",
          "data": {
            "text/plain": [
              "(0.4215806524821307, 0.27360318903579833, 1.4677484348677958)"
            ]
          },
          "metadata": {
            "tags": []
          },
          "execution_count": 27
        }
      ]
    },
    {
      "cell_type": "markdown",
      "metadata": {
        "id": "rMokHy76uMk0"
      },
      "source": [
        "### Agora vemos que podemos otimizar este portfólio tendo cerca de  7,92% em ações do FB, AMZN em 30,35%, AAPL 27,17% e NFLX em 34,55% e GOOG em 0%\r\n",
        "\r\n",
        "* O nosso retorno anual aumentaria em cerca de 42.2% e a volatilidade /risco ficaria em torno de 27.4% com um sharpe ratio de 1.47"
      ]
    },
    {
      "cell_type": "markdown",
      "metadata": {
        "id": "FEsFufoMwJxD"
      },
      "source": [
        "## Agora precisamos saber a quantidade de ações que devemos comprar  \r\n",
        "\r\n",
        "por exemplo: quanto de cada ação devo comprar se eu estiver disposto a montar um portifólio com 15,000 USD"
      ]
    },
    {
      "cell_type": "code",
      "metadata": {
        "id": "AyOTDqGWdUaJ",
        "outputId": "f6fc614d-f379-4af7-98b9-df952b7c3ead",
        "colab": {
          "base_uri": "https://localhost:8080/"
        }
      },
      "source": [
        "# primeiramente vamos instalar o pulp\r\n",
        "!pip install pulp"
      ],
      "execution_count": 28,
      "outputs": [
        {
          "output_type": "stream",
          "text": [
            "Collecting pulp\n",
            "\u001b[?25l  Downloading https://files.pythonhosted.org/packages/14/c4/0eec14a0123209c261de6ff154ef3be5cad3fd557c084f468356662e0585/PuLP-2.4-py3-none-any.whl (40.6MB)\n",
            "\u001b[K     |████████████████████████████████| 40.6MB 100kB/s \n",
            "\u001b[?25hCollecting amply>=0.1.2\n",
            "  Downloading https://files.pythonhosted.org/packages/f3/c5/dfa09dd2595a2ab2ab4e6fa7bebef9565812722e1980d04b0edce5032066/amply-0.1.4-py3-none-any.whl\n",
            "Requirement already satisfied: pyparsing in /usr/local/lib/python3.6/dist-packages (from amply>=0.1.2->pulp) (2.4.7)\n",
            "Requirement already satisfied: docutils>=0.3 in /usr/local/lib/python3.6/dist-packages (from amply>=0.1.2->pulp) (0.16)\n",
            "Installing collected packages: amply, pulp\n",
            "Successfully installed amply-0.1.4 pulp-2.4\n"
          ],
          "name": "stdout"
        }
      ]
    },
    {
      "cell_type": "code",
      "metadata": {
        "id": "Y0UeLCxcw6Qd",
        "outputId": "eabad253-a531-4d81-8e8b-6ad88b51c826",
        "colab": {
          "base_uri": "https://localhost:8080/"
        }
      },
      "source": [
        "# obter a alocação discreta de cada ação\r\n",
        "from pypfopt.discrete_allocation import DiscreteAllocation, get_latest_prices\r\n",
        "latest_prices = get_latest_prices(df)\r\n",
        "weights = cleaned_weights \r\n",
        "da = DiscreteAllocation(weights, latest_prices, total_portfolio_value=15000)\r\n",
        "allocation, leftover = da.lp_portfolio()\r\n",
        "print(\"Quantidade de ações:\", allocation)\r\n",
        "print(\"Fundo remanescente: ${:.2f}\".format(leftover))"
      ],
      "execution_count": 30,
      "outputs": [
        {
          "output_type": "stream",
          "text": [
            "Quantidade de ações: {'FB': 5, 'AMZN': 1, 'AAPL': 32, 'NFLX': 10}\n",
            "Fundo remanescente: $1037.41\n"
          ],
          "name": "stdout"
        }
      ]
    },
    {
      "cell_type": "markdown",
      "metadata": {
        "id": "jUlz1C2KxZf4"
      },
      "source": [
        "# Pronto!\r\n",
        "* Sabemos agora que para otimizarmos os nossos ganhos devemos comprar 5 ações do FB, 1 da AMZN, 32 da AAPL e 10 NFLX.\r\n",
        "\r\n",
        "* Observação: Este notebook é somente para estudos, e não para recomendar ações."
      ]
    },
    {
      "cell_type": "markdown",
      "metadata": {
        "id": "_rlXwA9jx0Rd"
      },
      "source": [
        "# Obrigado pela leitura e acesse minhas redes para mais artigos:\r\n",
        "\r\n",
        "[Linkedin](https://www.linkedin.com/in/danilo-felipe-neto-972b45120/)\r\n",
        "[GitHub](https://github.com/danilofneto)\r\n",
        "[Instagram](https://www.instagram.com/danilofneto/)"
      ]
    },
    {
      "cell_type": "code",
      "metadata": {
        "id": "i0B7IeeXxGnZ"
      },
      "source": [
        ""
      ],
      "execution_count": null,
      "outputs": []
    }
  ]
}