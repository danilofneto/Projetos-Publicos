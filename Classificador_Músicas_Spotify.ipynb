{
  "nbformat": 4,
  "nbformat_minor": 0,
  "metadata": {
    "colab": {
      "name": "Spotify.ipynb",
      "provenance": [],
      "collapsed_sections": []
    },
    "kernelspec": {
      "name": "python3",
      "display_name": "Python 3"
    }
  },
  "cells": [
    {
      "cell_type": "markdown",
      "metadata": {
        "id": "NROSCOal0WKx"
      },
      "source": [
        "![1_Ol1cztZh2OczqBctiyb4uw.jpeg](data:image/jpeg;base64,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)"
      ]
    },
    {
      "cell_type": "markdown",
      "metadata": {
        "id": "h6EIsfjoKvIh"
      },
      "source": [
        "# Classificador de Músicas para o Spotify\r\n",
        "\r\n",
        "  O Spotify é um dos serviços de streaming de áudio mais popular do mundo e grande parte desse sucesso foi conquistado usando **Ciência de Dados** para transformar a experiência do usuário em algo único e completamente customizado.\r\n",
        "\r\n",
        "  Um bom exemplo é o algoritmo que recomenda artista para o usuário baseado em suas curtidas anteriores.\r\n",
        "\r\n",
        "  Mas como funciona este tipo de algoritmo? É algo extremamente futurista projetado pela Skynet do filme exterminador do futuro ou simplesmente a boa e velha matématica combinada com o aprendizado de máquina?\r\n",
        "\r\n"
      ]
    },
    {
      "cell_type": "markdown",
      "metadata": {
        "id": "-uLx3zKrNOn9"
      },
      "source": [
        "# Sobre o projeto:\r\n",
        "\r\n",
        "O objetivo é utilizar dados disponibilizados pelo Spotify para criar um classificador que identifica possíveis músicas que um usuário possa gostar.\r\n"
      ]
    },
    {
      "cell_type": "code",
      "metadata": {
        "id": "0Y5IwpNpEMBA"
      },
      "source": [
        "# importando as bibliotecas\n",
        "import pandas as pd\n",
        "import matplotlib.pyplot as plt\n",
        "import seaborn as sns\n",
        "import pandas_profiling"
      ],
      "execution_count": null,
      "outputs": []
    },
    {
      "cell_type": "markdown",
      "metadata": {
        "id": "GjS3cGSuP11T"
      },
      "source": [
        "### Lendo a base de dados"
      ]
    },
    {
      "cell_type": "code",
      "metadata": {
        "id": "BzbeApyaEk72"
      },
      "source": [
        "# Cria uma váriavel que recebe o arquivo csv com as informações do spotify\r\n",
        "df_spotify = pd.read_csv('/content/drive/My Drive/Data Science/semana-data-science/data_spotify.csv', sep=',')"
      ],
      "execution_count": null,
      "outputs": []
    },
    {
      "cell_type": "markdown",
      "metadata": {
        "id": "zubceMnhP5ud"
      },
      "source": [
        "### Informações do Dataset"
      ]
    },
    {
      "cell_type": "code",
      "metadata": {
        "id": "rqS43C8wEvg5",
        "colab": {
          "base_uri": "https://localhost:8080/",
          "height": 425
        },
        "outputId": "1f3d4a7a-eeee-4e71-91fa-dbdc848013f6"
      },
      "source": [
        "# Informações do dataset\r\n",
        "df_spotify.info()"
      ],
      "execution_count": null,
      "outputs": [
        {
          "output_type": "stream",
          "text": [
            "<class 'pandas.core.frame.DataFrame'>\n",
            "RangeIndex: 2017 entries, 0 to 2016\n",
            "Data columns (total 17 columns):\n",
            " #   Column            Non-Null Count  Dtype  \n",
            "---  ------            --------------  -----  \n",
            " 0   id                2017 non-null   int64  \n",
            " 1   acousticness      2017 non-null   float64\n",
            " 2   danceability      2017 non-null   float64\n",
            " 3   duration_ms       2017 non-null   int64  \n",
            " 4   energy            2017 non-null   float64\n",
            " 5   instrumentalness  2017 non-null   float64\n",
            " 6   key               2017 non-null   int64  \n",
            " 7   liveness          2017 non-null   float64\n",
            " 8   loudness          2017 non-null   float64\n",
            " 9   mode              2017 non-null   int64  \n",
            " 10  speechiness       2017 non-null   float64\n",
            " 11  tempo             2017 non-null   float64\n",
            " 12  time_signature    2017 non-null   float64\n",
            " 13  valence           2017 non-null   float64\n",
            " 14  target            2017 non-null   int64  \n",
            " 15  song_title        2017 non-null   object \n",
            " 16  artist            2017 non-null   object \n",
            "dtypes: float64(10), int64(5), object(2)\n",
            "memory usage: 268.0+ KB\n"
          ],
          "name": "stdout"
        }
      ]
    },
    {
      "cell_type": "code",
      "metadata": {
        "id": "cJeUmaFeFLno",
        "colab": {
          "base_uri": "https://localhost:8080/",
          "height": 204
        },
        "outputId": "dd1ebbb9-f748-4b7d-c24d-ef870f1cd984"
      },
      "source": [
        "df_spotify.head()"
      ],
      "execution_count": null,
      "outputs": [
        {
          "output_type": "execute_result",
          "data": {
            "text/html": [
              "<div>\n",
              "<style scoped>\n",
              "    .dataframe tbody tr th:only-of-type {\n",
              "        vertical-align: middle;\n",
              "    }\n",
              "\n",
              "    .dataframe tbody tr th {\n",
              "        vertical-align: top;\n",
              "    }\n",
              "\n",
              "    .dataframe thead th {\n",
              "        text-align: right;\n",
              "    }\n",
              "</style>\n",
              "<table border=\"1\" class=\"dataframe\">\n",
              "  <thead>\n",
              "    <tr style=\"text-align: right;\">\n",
              "      <th></th>\n",
              "      <th>id</th>\n",
              "      <th>acousticness</th>\n",
              "      <th>danceability</th>\n",
              "      <th>duration_ms</th>\n",
              "      <th>energy</th>\n",
              "      <th>instrumentalness</th>\n",
              "      <th>key</th>\n",
              "      <th>liveness</th>\n",
              "      <th>loudness</th>\n",
              "      <th>mode</th>\n",
              "      <th>speechiness</th>\n",
              "      <th>tempo</th>\n",
              "      <th>time_signature</th>\n",
              "      <th>valence</th>\n",
              "      <th>target</th>\n",
              "      <th>song_title</th>\n",
              "      <th>artist</th>\n",
              "    </tr>\n",
              "  </thead>\n",
              "  <tbody>\n",
              "    <tr>\n",
              "      <th>0</th>\n",
              "      <td>0</td>\n",
              "      <td>0.0102</td>\n",
              "      <td>0.833</td>\n",
              "      <td>204600</td>\n",
              "      <td>0.434</td>\n",
              "      <td>0.021900</td>\n",
              "      <td>2</td>\n",
              "      <td>0.1650</td>\n",
              "      <td>-8.795</td>\n",
              "      <td>1</td>\n",
              "      <td>0.4310</td>\n",
              "      <td>150.062</td>\n",
              "      <td>4.0</td>\n",
              "      <td>0.286</td>\n",
              "      <td>1</td>\n",
              "      <td>Mask Off</td>\n",
              "      <td>Future</td>\n",
              "    </tr>\n",
              "    <tr>\n",
              "      <th>1</th>\n",
              "      <td>1</td>\n",
              "      <td>0.1990</td>\n",
              "      <td>0.743</td>\n",
              "      <td>326933</td>\n",
              "      <td>0.359</td>\n",
              "      <td>0.006110</td>\n",
              "      <td>1</td>\n",
              "      <td>0.1370</td>\n",
              "      <td>-10.401</td>\n",
              "      <td>1</td>\n",
              "      <td>0.0794</td>\n",
              "      <td>160.083</td>\n",
              "      <td>4.0</td>\n",
              "      <td>0.588</td>\n",
              "      <td>1</td>\n",
              "      <td>Redbone</td>\n",
              "      <td>Childish Gambino</td>\n",
              "    </tr>\n",
              "    <tr>\n",
              "      <th>2</th>\n",
              "      <td>2</td>\n",
              "      <td>0.0344</td>\n",
              "      <td>0.838</td>\n",
              "      <td>185707</td>\n",
              "      <td>0.412</td>\n",
              "      <td>0.000234</td>\n",
              "      <td>2</td>\n",
              "      <td>0.1590</td>\n",
              "      <td>-7.148</td>\n",
              "      <td>1</td>\n",
              "      <td>0.2890</td>\n",
              "      <td>75.044</td>\n",
              "      <td>4.0</td>\n",
              "      <td>0.173</td>\n",
              "      <td>1</td>\n",
              "      <td>Xanny Family</td>\n",
              "      <td>Future</td>\n",
              "    </tr>\n",
              "    <tr>\n",
              "      <th>3</th>\n",
              "      <td>3</td>\n",
              "      <td>0.6040</td>\n",
              "      <td>0.494</td>\n",
              "      <td>199413</td>\n",
              "      <td>0.338</td>\n",
              "      <td>0.510000</td>\n",
              "      <td>5</td>\n",
              "      <td>0.0922</td>\n",
              "      <td>-15.236</td>\n",
              "      <td>1</td>\n",
              "      <td>0.0261</td>\n",
              "      <td>86.468</td>\n",
              "      <td>4.0</td>\n",
              "      <td>0.230</td>\n",
              "      <td>1</td>\n",
              "      <td>Master Of None</td>\n",
              "      <td>Beach House</td>\n",
              "    </tr>\n",
              "    <tr>\n",
              "      <th>4</th>\n",
              "      <td>4</td>\n",
              "      <td>0.1800</td>\n",
              "      <td>0.678</td>\n",
              "      <td>392893</td>\n",
              "      <td>0.561</td>\n",
              "      <td>0.512000</td>\n",
              "      <td>5</td>\n",
              "      <td>0.4390</td>\n",
              "      <td>-11.648</td>\n",
              "      <td>0</td>\n",
              "      <td>0.0694</td>\n",
              "      <td>174.004</td>\n",
              "      <td>4.0</td>\n",
              "      <td>0.904</td>\n",
              "      <td>1</td>\n",
              "      <td>Parallel Lines</td>\n",
              "      <td>Junior Boys</td>\n",
              "    </tr>\n",
              "  </tbody>\n",
              "</table>\n",
              "</div>"
            ],
            "text/plain": [
              "   id  acousticness  danceability  ...  target      song_title            artist\n",
              "0   0        0.0102         0.833  ...       1        Mask Off            Future\n",
              "1   1        0.1990         0.743  ...       1         Redbone  Childish Gambino\n",
              "2   2        0.0344         0.838  ...       1    Xanny Family            Future\n",
              "3   3        0.6040         0.494  ...       1  Master Of None       Beach House\n",
              "4   4        0.1800         0.678  ...       1  Parallel Lines       Junior Boys\n",
              "\n",
              "[5 rows x 17 columns]"
            ]
          },
          "metadata": {
            "tags": []
          },
          "execution_count": 5
        }
      ]
    },
    {
      "cell_type": "markdown",
      "metadata": {
        "id": "5Qx7YFRKQVR8"
      },
      "source": [
        "# Entendendo as colunas do Dataset:\r\n",
        "\r\n",
        "**'id'** :O número de identificação da música\r\n",
        "\r\n",
        "**'acousticness'** :Indica se a música é ou não acústica, 0,0 para não acústica e 1,0 para o máximo de acusticidade.\r\n",
        "\r\n",
        "**'danceability'**: Descreve se a música é \"dançável\" com base em uma combinação de elementos musicais. Um valor de 0,0 é menos dançável e 1,0 é mais dançante.\r\n",
        "\r\n",
        "**'duration_ms'**: A duração da faixa de música em milissegundos\r\n",
        "\r\n",
        "**'energy'**: Se a música é agitada ou não 0,0 (menos energética possivel) a 1,0 (mais energética possivel). \r\n",
        "\r\n",
        "**'instrumentalness'** Prediz se uma faixa não contém vocais. Os sons “Ooh” e “aah” são tratados como instrumentais neste contexto. Faixas de rap ou palavra falada são claramente “vocais”. Quanto mais próximo o valor da instrumentalidade estiver de 1,0, maior será a probabilidade de a faixa não conter conteúdo vocal. Valores acima de 0,5 destinam-se a representar faixas instrumentais, mas a confiança é maior à medida que o valor se aproxima de 1,0.\r\n",
        "\r\n",
        "**'key'** Tom da música, onde:\r\n",
        "0 = C\r\n",
        "1 = Db\r\n",
        "2 = D\r\n",
        "3 = Eb\r\n",
        "4 = E\r\n",
        "5 = F\r\n",
        "6 = Gb\r\n",
        "7 = G\r\n",
        "8 = Ab\r\n",
        "9 = A\r\n",
        "10 = Bb\r\n",
        "11 = B\r\n",
        "\r\n",
        "**'liveness'**: Detecta a presença de um público na gravação.\r\n",
        "\r\n",
        "**'loudness'**: O volume geral de uma faixa em decibéis (dB). Os valores de intensidade são calculados em toda a faixa e são úteis para comparar a intensidade relativa das faixas. Loudness é a qualidade de um som que é o principal correlato psicológico da força física (amplitude). Os valores variam entre -60 e 0 db.\r\n",
        "\r\n",
        "**'speechiness'**: Detecta a presença de palavras faladas em uma faixa. Por exemplo se o usuário gosta de PodCasts.\r\n",
        "\r\n",
        "**'tempo'**: Tempo musical (duração de cada unidade do compasso).\r\n",
        "\r\n",
        "**'valence'**: Uma medida de 0,0 a 1,0 que descreve a positividade musical transmitida por uma faixa. Faixas com alta valência soam mais positivas (por exemplo, feliz, alegre, eufórico), enquanto faixas com baixa valência soam mais negativas (por exemplo, triste, deprimido, zangado).\r\n",
        "\r\n",
        "**'target'** Coluna que será usada para a classificação:\r\n",
        "Valor 0 = o usuário não gostou da música, valor = 1 significa que o usuário gostou da música.\r\n",
        "\r\n",
        "**'song_title'** Nome da faixa.\r\n",
        "\r\n",
        "**'artist'** O nome do artista ou banda.\r\n",
        "\r\n"
      ]
    },
    {
      "cell_type": "markdown",
      "metadata": {
        "id": "hQ2p27pJS9NQ"
      },
      "source": [
        "### Checando valores faltantes no dataset"
      ]
    },
    {
      "cell_type": "code",
      "metadata": {
        "id": "_I01TKJOE6Mx",
        "colab": {
          "base_uri": "https://localhost:8080/",
          "height": 323
        },
        "outputId": "5c6ac7d0-069c-40a2-fe2a-a6b1b8aa945b"
      },
      "source": [
        "#checking missing values\n",
        "df_spotify.isnull().sum()"
      ],
      "execution_count": null,
      "outputs": [
        {
          "output_type": "execute_result",
          "data": {
            "text/plain": [
              "id                  0\n",
              "acousticness        0\n",
              "danceability        0\n",
              "duration_ms         0\n",
              "energy              0\n",
              "instrumentalness    0\n",
              "key                 0\n",
              "liveness            0\n",
              "loudness            0\n",
              "mode                0\n",
              "speechiness         0\n",
              "tempo               0\n",
              "time_signature      0\n",
              "valence             0\n",
              "target              0\n",
              "song_title          0\n",
              "artist              0\n",
              "dtype: int64"
            ]
          },
          "metadata": {
            "tags": []
          },
          "execution_count": 4
        }
      ]
    },
    {
      "cell_type": "markdown",
      "metadata": {
        "id": "1XOtvt_PTB_l"
      },
      "source": [
        "### Descrição estatística do dataset\r\n",
        "Média, mediana, desvio padrão e quartis "
      ]
    },
    {
      "cell_type": "code",
      "metadata": {
        "id": "DKnsMcsxeKqj",
        "colab": {
          "base_uri": "https://localhost:8080/",
          "height": 317
        },
        "outputId": "054ce853-a517-428b-e920-d566e8bdb2d1"
      },
      "source": [
        "df_spotify.describe()"
      ],
      "execution_count": null,
      "outputs": [
        {
          "output_type": "execute_result",
          "data": {
            "text/html": [
              "<div>\n",
              "<style scoped>\n",
              "    .dataframe tbody tr th:only-of-type {\n",
              "        vertical-align: middle;\n",
              "    }\n",
              "\n",
              "    .dataframe tbody tr th {\n",
              "        vertical-align: top;\n",
              "    }\n",
              "\n",
              "    .dataframe thead th {\n",
              "        text-align: right;\n",
              "    }\n",
              "</style>\n",
              "<table border=\"1\" class=\"dataframe\">\n",
              "  <thead>\n",
              "    <tr style=\"text-align: right;\">\n",
              "      <th></th>\n",
              "      <th>id</th>\n",
              "      <th>acousticness</th>\n",
              "      <th>danceability</th>\n",
              "      <th>duration_ms</th>\n",
              "      <th>energy</th>\n",
              "      <th>instrumentalness</th>\n",
              "      <th>key</th>\n",
              "      <th>liveness</th>\n",
              "      <th>loudness</th>\n",
              "      <th>mode</th>\n",
              "      <th>speechiness</th>\n",
              "      <th>tempo</th>\n",
              "      <th>time_signature</th>\n",
              "      <th>valence</th>\n",
              "      <th>target</th>\n",
              "    </tr>\n",
              "  </thead>\n",
              "  <tbody>\n",
              "    <tr>\n",
              "      <th>count</th>\n",
              "      <td>2017.000000</td>\n",
              "      <td>2017.000000</td>\n",
              "      <td>2017.000000</td>\n",
              "      <td>2.017000e+03</td>\n",
              "      <td>2017.000000</td>\n",
              "      <td>2017.000000</td>\n",
              "      <td>2017.000000</td>\n",
              "      <td>2017.000000</td>\n",
              "      <td>2017.000000</td>\n",
              "      <td>2017.000000</td>\n",
              "      <td>2017.000000</td>\n",
              "      <td>2017.000000</td>\n",
              "      <td>2017.000000</td>\n",
              "      <td>2017.000000</td>\n",
              "      <td>2017.000000</td>\n",
              "    </tr>\n",
              "    <tr>\n",
              "      <th>mean</th>\n",
              "      <td>1008.000000</td>\n",
              "      <td>0.187590</td>\n",
              "      <td>0.618422</td>\n",
              "      <td>2.463062e+05</td>\n",
              "      <td>0.681577</td>\n",
              "      <td>0.133286</td>\n",
              "      <td>5.342588</td>\n",
              "      <td>0.190844</td>\n",
              "      <td>-7.085624</td>\n",
              "      <td>0.612295</td>\n",
              "      <td>0.092664</td>\n",
              "      <td>121.603272</td>\n",
              "      <td>3.968270</td>\n",
              "      <td>0.496815</td>\n",
              "      <td>0.505702</td>\n",
              "    </tr>\n",
              "    <tr>\n",
              "      <th>std</th>\n",
              "      <td>582.402066</td>\n",
              "      <td>0.259989</td>\n",
              "      <td>0.161029</td>\n",
              "      <td>8.198181e+04</td>\n",
              "      <td>0.210273</td>\n",
              "      <td>0.273162</td>\n",
              "      <td>3.648240</td>\n",
              "      <td>0.155453</td>\n",
              "      <td>3.761684</td>\n",
              "      <td>0.487347</td>\n",
              "      <td>0.089931</td>\n",
              "      <td>26.685604</td>\n",
              "      <td>0.255853</td>\n",
              "      <td>0.247195</td>\n",
              "      <td>0.500091</td>\n",
              "    </tr>\n",
              "    <tr>\n",
              "      <th>min</th>\n",
              "      <td>0.000000</td>\n",
              "      <td>0.000003</td>\n",
              "      <td>0.122000</td>\n",
              "      <td>1.604200e+04</td>\n",
              "      <td>0.014800</td>\n",
              "      <td>0.000000</td>\n",
              "      <td>0.000000</td>\n",
              "      <td>0.018800</td>\n",
              "      <td>-33.097000</td>\n",
              "      <td>0.000000</td>\n",
              "      <td>0.023100</td>\n",
              "      <td>47.859000</td>\n",
              "      <td>1.000000</td>\n",
              "      <td>0.034800</td>\n",
              "      <td>0.000000</td>\n",
              "    </tr>\n",
              "    <tr>\n",
              "      <th>25%</th>\n",
              "      <td>504.000000</td>\n",
              "      <td>0.009630</td>\n",
              "      <td>0.514000</td>\n",
              "      <td>2.000150e+05</td>\n",
              "      <td>0.563000</td>\n",
              "      <td>0.000000</td>\n",
              "      <td>2.000000</td>\n",
              "      <td>0.092300</td>\n",
              "      <td>-8.394000</td>\n",
              "      <td>0.000000</td>\n",
              "      <td>0.037500</td>\n",
              "      <td>100.189000</td>\n",
              "      <td>4.000000</td>\n",
              "      <td>0.295000</td>\n",
              "      <td>0.000000</td>\n",
              "    </tr>\n",
              "    <tr>\n",
              "      <th>50%</th>\n",
              "      <td>1008.000000</td>\n",
              "      <td>0.063300</td>\n",
              "      <td>0.631000</td>\n",
              "      <td>2.292610e+05</td>\n",
              "      <td>0.715000</td>\n",
              "      <td>0.000076</td>\n",
              "      <td>6.000000</td>\n",
              "      <td>0.127000</td>\n",
              "      <td>-6.248000</td>\n",
              "      <td>1.000000</td>\n",
              "      <td>0.054900</td>\n",
              "      <td>121.427000</td>\n",
              "      <td>4.000000</td>\n",
              "      <td>0.492000</td>\n",
              "      <td>1.000000</td>\n",
              "    </tr>\n",
              "    <tr>\n",
              "      <th>75%</th>\n",
              "      <td>1512.000000</td>\n",
              "      <td>0.265000</td>\n",
              "      <td>0.738000</td>\n",
              "      <td>2.703330e+05</td>\n",
              "      <td>0.846000</td>\n",
              "      <td>0.054000</td>\n",
              "      <td>9.000000</td>\n",
              "      <td>0.247000</td>\n",
              "      <td>-4.746000</td>\n",
              "      <td>1.000000</td>\n",
              "      <td>0.108000</td>\n",
              "      <td>137.849000</td>\n",
              "      <td>4.000000</td>\n",
              "      <td>0.691000</td>\n",
              "      <td>1.000000</td>\n",
              "    </tr>\n",
              "    <tr>\n",
              "      <th>max</th>\n",
              "      <td>2016.000000</td>\n",
              "      <td>0.995000</td>\n",
              "      <td>0.984000</td>\n",
              "      <td>1.004627e+06</td>\n",
              "      <td>0.998000</td>\n",
              "      <td>0.976000</td>\n",
              "      <td>11.000000</td>\n",
              "      <td>0.969000</td>\n",
              "      <td>-0.307000</td>\n",
              "      <td>1.000000</td>\n",
              "      <td>0.816000</td>\n",
              "      <td>219.331000</td>\n",
              "      <td>5.000000</td>\n",
              "      <td>0.992000</td>\n",
              "      <td>1.000000</td>\n",
              "    </tr>\n",
              "  </tbody>\n",
              "</table>\n",
              "</div>"
            ],
            "text/plain": [
              "                id  acousticness  ...      valence       target\n",
              "count  2017.000000   2017.000000  ...  2017.000000  2017.000000\n",
              "mean   1008.000000      0.187590  ...     0.496815     0.505702\n",
              "std     582.402066      0.259989  ...     0.247195     0.500091\n",
              "min       0.000000      0.000003  ...     0.034800     0.000000\n",
              "25%     504.000000      0.009630  ...     0.295000     0.000000\n",
              "50%    1008.000000      0.063300  ...     0.492000     1.000000\n",
              "75%    1512.000000      0.265000  ...     0.691000     1.000000\n",
              "max    2016.000000      0.995000  ...     0.992000     1.000000\n",
              "\n",
              "[8 rows x 15 columns]"
            ]
          },
          "metadata": {
            "tags": []
          },
          "execution_count": 5
        }
      ]
    },
    {
      "cell_type": "markdown",
      "metadata": {
        "id": "AzP1-pUPT6dl"
      },
      "source": [
        "### No plot a seguir podemos verificar que quanto mais \"acustica\" é a música menos \"dançável\" ela é"
      ]
    },
    {
      "cell_type": "code",
      "metadata": {
        "id": "KrQ98gTqDoFQ",
        "colab": {
          "base_uri": "https://localhost:8080/",
          "height": 275
        },
        "outputId": "1820ee51-ef21-42ec-ed26-46b5dc60a9d8"
      },
      "source": [
        "#podemos verificar que quanto mais \"acustica\" é a musica menos \"dançavel\" ela é\n",
        "%matplotlib inline\n",
        "df_spotify.plot('acousticness', 'danceability', c='target', kind='scatter', colormap='Accent_r')"
      ],
      "execution_count": null,
      "outputs": [
        {
          "output_type": "execute_result",
          "data": {
            "text/plain": [
              "<matplotlib.axes._subplots.AxesSubplot at 0x7f6cd8553940>"
            ]
          },
          "metadata": {
            "tags": []
          },
          "execution_count": 13
        },
        {
          "output_type": "display_data",
          "data": {
            "image/png": "[encoded data removed]",
            "text/plain": [
              "<Figure size 432x288 with 2 Axes>"
            ]
          },
          "metadata": {
            "tags": [],
            "needs_background": "light"
          }
        }
      ]
    },
    {
      "cell_type": "markdown",
      "metadata": {
        "id": "gjvcHZ6cUKx6"
      },
      "source": [
        "### Podemos observar a seguir que quanto mais dançável é a música maior a sua energia"
      ]
    },
    {
      "cell_type": "code",
      "metadata": {
        "id": "wxg4CexHE8gr",
        "colab": {
          "base_uri": "https://localhost:8080/",
          "height": 275
        },
        "outputId": "ac95e53f-ccd2-4dae-8877-52b45110cab7"
      },
      "source": [
        "df_spotify.plot(x='danceability', y='energy', c='target', kind='scatter', colormap='Accent_r')"
      ],
      "execution_count": null,
      "outputs": [
        {
          "output_type": "execute_result",
          "data": {
            "text/plain": [
              "<matplotlib.axes._subplots.AxesSubplot at 0x7f6cd848bcf8>"
            ]
          },
          "metadata": {
            "tags": []
          },
          "execution_count": 14
        },
        {
          "output_type": "display_data",
          "data": {
            "image/png": "[encoded data removed]",
            "text/plain": [
              "<Figure size 432x288 with 2 Axes>"
            ]
          },
          "metadata": {
            "tags": [],
            "needs_background": "light"
          }
        }
      ]
    },
    {
      "cell_type": "markdown",
      "metadata": {
        "id": "Kf9_wyD50nbU"
      },
      "source": [
        "### Correlação entre as variáveis\r\n"
      ]
    },
    {
      "cell_type": "code",
      "metadata": {
        "id": "XW5H78RVIoqY",
        "colab": {
          "base_uri": "https://localhost:8080/",
          "height": 505
        },
        "outputId": "60ac1b52-d59f-40a2-af08-0ea33ae475dd"
      },
      "source": [
        "df_num = df_spotify.drop(['song_title', 'artist'], axis=1)\n",
        "plt.figure(figsize=(26,8))\n",
        "sns.heatmap(df_num.corr(), annot = True, fmt ='.2f',cmap='Greens_r')"
      ],
      "execution_count": null,
      "outputs": [
        {
          "output_type": "execute_result",
          "data": {
            "text/plain": [
              "<matplotlib.axes._subplots.AxesSubplot at 0x7f4b62e22828>"
            ]
          },
          "metadata": {
            "tags": []
          },
          "execution_count": 6
        },
        {
          "output_type": "display_data",
          "data": {
            "image/png": "[encoded data removed]",
            "text/plain": [
              "<Figure size 1872x576 with 2 Axes>"
            ]
          },
          "metadata": {
            "tags": [],
            "needs_background": "light"
          }
        }
      ]
    },
    {
      "cell_type": "code",
      "metadata": {
        "id": "48j7FO8RpM9k",
        "colab": {
          "base_uri": "https://localhost:8080/",
          "height": 292
        },
        "outputId": "0f506a78-598c-4a30-8003-321ccf9ae8b7"
      },
      "source": [
        "df_spotify.head()"
      ],
      "execution_count": null,
      "outputs": [
        {
          "output_type": "execute_result",
          "data": {
            "text/html": [
              "<div>\n",
              "<style scoped>\n",
              "    .dataframe tbody tr th:only-of-type {\n",
              "        vertical-align: middle;\n",
              "    }\n",
              "\n",
              "    .dataframe tbody tr th {\n",
              "        vertical-align: top;\n",
              "    }\n",
              "\n",
              "    .dataframe thead th {\n",
              "        text-align: right;\n",
              "    }\n",
              "</style>\n",
              "<table border=\"1\" class=\"dataframe\">\n",
              "  <thead>\n",
              "    <tr style=\"text-align: right;\">\n",
              "      <th></th>\n",
              "      <th>id</th>\n",
              "      <th>acousticness</th>\n",
              "      <th>danceability</th>\n",
              "      <th>duration_ms</th>\n",
              "      <th>energy</th>\n",
              "      <th>instrumentalness</th>\n",
              "      <th>key</th>\n",
              "      <th>liveness</th>\n",
              "      <th>loudness</th>\n",
              "      <th>mode</th>\n",
              "      <th>speechiness</th>\n",
              "      <th>tempo</th>\n",
              "      <th>time_signature</th>\n",
              "      <th>valence</th>\n",
              "      <th>target</th>\n",
              "      <th>song_title</th>\n",
              "      <th>artist</th>\n",
              "    </tr>\n",
              "  </thead>\n",
              "  <tbody>\n",
              "    <tr>\n",
              "      <th>0</th>\n",
              "      <td>0</td>\n",
              "      <td>0.0102</td>\n",
              "      <td>0.833</td>\n",
              "      <td>204600</td>\n",
              "      <td>0.434</td>\n",
              "      <td>0.021900</td>\n",
              "      <td>2</td>\n",
              "      <td>0.1650</td>\n",
              "      <td>-8.795</td>\n",
              "      <td>1</td>\n",
              "      <td>0.4310</td>\n",
              "      <td>150.062</td>\n",
              "      <td>4.0</td>\n",
              "      <td>0.286</td>\n",
              "      <td>1</td>\n",
              "      <td>Mask Off</td>\n",
              "      <td>Future</td>\n",
              "    </tr>\n",
              "    <tr>\n",
              "      <th>1</th>\n",
              "      <td>1</td>\n",
              "      <td>0.1990</td>\n",
              "      <td>0.743</td>\n",
              "      <td>326933</td>\n",
              "      <td>0.359</td>\n",
              "      <td>0.006110</td>\n",
              "      <td>1</td>\n",
              "      <td>0.1370</td>\n",
              "      <td>-10.401</td>\n",
              "      <td>1</td>\n",
              "      <td>0.0794</td>\n",
              "      <td>160.083</td>\n",
              "      <td>4.0</td>\n",
              "      <td>0.588</td>\n",
              "      <td>1</td>\n",
              "      <td>Redbone</td>\n",
              "      <td>Childish Gambino</td>\n",
              "    </tr>\n",
              "    <tr>\n",
              "      <th>2</th>\n",
              "      <td>2</td>\n",
              "      <td>0.0344</td>\n",
              "      <td>0.838</td>\n",
              "      <td>185707</td>\n",
              "      <td>0.412</td>\n",
              "      <td>0.000234</td>\n",
              "      <td>2</td>\n",
              "      <td>0.1590</td>\n",
              "      <td>-7.148</td>\n",
              "      <td>1</td>\n",
              "      <td>0.2890</td>\n",
              "      <td>75.044</td>\n",
              "      <td>4.0</td>\n",
              "      <td>0.173</td>\n",
              "      <td>1</td>\n",
              "      <td>Xanny Family</td>\n",
              "      <td>Future</td>\n",
              "    </tr>\n",
              "    <tr>\n",
              "      <th>3</th>\n",
              "      <td>3</td>\n",
              "      <td>0.6040</td>\n",
              "      <td>0.494</td>\n",
              "      <td>199413</td>\n",
              "      <td>0.338</td>\n",
              "      <td>0.510000</td>\n",
              "      <td>5</td>\n",
              "      <td>0.0922</td>\n",
              "      <td>-15.236</td>\n",
              "      <td>1</td>\n",
              "      <td>0.0261</td>\n",
              "      <td>86.468</td>\n",
              "      <td>4.0</td>\n",
              "      <td>0.230</td>\n",
              "      <td>1</td>\n",
              "      <td>Master Of None</td>\n",
              "      <td>Beach House</td>\n",
              "    </tr>\n",
              "    <tr>\n",
              "      <th>4</th>\n",
              "      <td>4</td>\n",
              "      <td>0.1800</td>\n",
              "      <td>0.678</td>\n",
              "      <td>392893</td>\n",
              "      <td>0.561</td>\n",
              "      <td>0.512000</td>\n",
              "      <td>5</td>\n",
              "      <td>0.4390</td>\n",
              "      <td>-11.648</td>\n",
              "      <td>0</td>\n",
              "      <td>0.0694</td>\n",
              "      <td>174.004</td>\n",
              "      <td>4.0</td>\n",
              "      <td>0.904</td>\n",
              "      <td>1</td>\n",
              "      <td>Parallel Lines</td>\n",
              "      <td>Junior Boys</td>\n",
              "    </tr>\n",
              "  </tbody>\n",
              "</table>\n",
              "</div>"
            ],
            "text/plain": [
              "   id  acousticness  danceability  ...  target      song_title            artist\n",
              "0   0        0.0102         0.833  ...       1        Mask Off            Future\n",
              "1   1        0.1990         0.743  ...       1         Redbone  Childish Gambino\n",
              "2   2        0.0344         0.838  ...       1    Xanny Family            Future\n",
              "3   3        0.6040         0.494  ...       1  Master Of None       Beach House\n",
              "4   4        0.1800         0.678  ...       1  Parallel Lines       Junior Boys\n",
              "\n",
              "[5 rows x 17 columns]"
            ]
          },
          "metadata": {
            "tags": []
          },
          "execution_count": 34
        }
      ]
    },
    {
      "cell_type": "code",
      "metadata": {
        "id": "5iaeOSMwK_FK"
      },
      "source": [
        "#removendo colunas que não vamos usar para treinar o modelo\n",
        "df_spotify.drop(['id','song_title'], axis=1, inplace=True)"
      ],
      "execution_count": null,
      "outputs": []
    },
    {
      "cell_type": "markdown",
      "metadata": {
        "id": "9XSLN-VR0zNE"
      },
      "source": [
        "# Pré Processamento dos dados"
      ]
    },
    {
      "cell_type": "markdown",
      "metadata": {
        "id": "HLkRgjDgIw4Z"
      },
      "source": [
        "## Separando os dados e classes e usando o LabelEncoder"
      ]
    },
    {
      "cell_type": "code",
      "metadata": {
        "id": "q759Gfm-JBqr"
      },
      "source": [
        "classes = df_spotify['target']\n",
        "df_spotify.drop('target', axis=1, inplace=True)"
      ],
      "execution_count": null,
      "outputs": []
    },
    {
      "cell_type": "markdown",
      "metadata": {
        "id": "BRyq_74fJesy"
      },
      "source": [
        "Label encoder é uma técnica para codificar valores categóricos em numéricos "
      ]
    },
    {
      "cell_type": "code",
      "metadata": {
        "id": "prT95SxiJ04r"
      },
      "source": [
        "from sklearn.preprocessing import LabelEncoder"
      ],
      "execution_count": null,
      "outputs": []
    },
    {
      "cell_type": "code",
      "metadata": {
        "id": "f8XgoBJHJ9z0"
      },
      "source": [
        "#instanciando objeto labelencoder\n",
        "enc = LabelEncoder()"
      ],
      "execution_count": null,
      "outputs": []
    },
    {
      "cell_type": "markdown",
      "metadata": {
        "id": "93yLKwHj1RyD"
      },
      "source": [
        "### Cria uma nova coluna com os valores de 'artist' já transformados pelo encoder"
      ]
    },
    {
      "cell_type": "code",
      "metadata": {
        "id": "CJ6I0l0qKWDb"
      },
      "source": [
        "inteiros = enc.fit_transform(df_spotify['artist'])\n",
        "df_spotify['artista_inteiro'] = inteiros"
      ],
      "execution_count": null,
      "outputs": []
    },
    {
      "cell_type": "code",
      "metadata": {
        "id": "uXNN44uNLhCb",
        "colab": {
          "base_uri": "https://localhost:8080/",
          "height": 204
        },
        "outputId": "4ee0b19c-826e-44a0-b445-7bcdb335ba7d"
      },
      "source": [
        "# Visualizando o dataset\r\n",
        "df_spotify.head()"
      ],
      "execution_count": null,
      "outputs": [
        {
          "output_type": "execute_result",
          "data": {
            "text/html": [
              "<div>\n",
              "<style scoped>\n",
              "    .dataframe tbody tr th:only-of-type {\n",
              "        vertical-align: middle;\n",
              "    }\n",
              "\n",
              "    .dataframe tbody tr th {\n",
              "        vertical-align: top;\n",
              "    }\n",
              "\n",
              "    .dataframe thead th {\n",
              "        text-align: right;\n",
              "    }\n",
              "</style>\n",
              "<table border=\"1\" class=\"dataframe\">\n",
              "  <thead>\n",
              "    <tr style=\"text-align: right;\">\n",
              "      <th></th>\n",
              "      <th>acousticness</th>\n",
              "      <th>danceability</th>\n",
              "      <th>duration_ms</th>\n",
              "      <th>energy</th>\n",
              "      <th>instrumentalness</th>\n",
              "      <th>key</th>\n",
              "      <th>liveness</th>\n",
              "      <th>loudness</th>\n",
              "      <th>mode</th>\n",
              "      <th>speechiness</th>\n",
              "      <th>tempo</th>\n",
              "      <th>time_signature</th>\n",
              "      <th>valence</th>\n",
              "      <th>artist</th>\n",
              "      <th>artista_inteiro</th>\n",
              "    </tr>\n",
              "  </thead>\n",
              "  <tbody>\n",
              "    <tr>\n",
              "      <th>0</th>\n",
              "      <td>0.0102</td>\n",
              "      <td>0.833</td>\n",
              "      <td>204600</td>\n",
              "      <td>0.434</td>\n",
              "      <td>0.021900</td>\n",
              "      <td>2</td>\n",
              "      <td>0.1650</td>\n",
              "      <td>-8.795</td>\n",
              "      <td>1</td>\n",
              "      <td>0.4310</td>\n",
              "      <td>150.062</td>\n",
              "      <td>4.0</td>\n",
              "      <td>0.286</td>\n",
              "      <td>Future</td>\n",
              "      <td>449</td>\n",
              "    </tr>\n",
              "    <tr>\n",
              "      <th>1</th>\n",
              "      <td>0.1990</td>\n",
              "      <td>0.743</td>\n",
              "      <td>326933</td>\n",
              "      <td>0.359</td>\n",
              "      <td>0.006110</td>\n",
              "      <td>1</td>\n",
              "      <td>0.1370</td>\n",
              "      <td>-10.401</td>\n",
              "      <td>1</td>\n",
              "      <td>0.0794</td>\n",
              "      <td>160.083</td>\n",
              "      <td>4.0</td>\n",
              "      <td>0.588</td>\n",
              "      <td>Childish Gambino</td>\n",
              "      <td>222</td>\n",
              "    </tr>\n",
              "    <tr>\n",
              "      <th>2</th>\n",
              "      <td>0.0344</td>\n",
              "      <td>0.838</td>\n",
              "      <td>185707</td>\n",
              "      <td>0.412</td>\n",
              "      <td>0.000234</td>\n",
              "      <td>2</td>\n",
              "      <td>0.1590</td>\n",
              "      <td>-7.148</td>\n",
              "      <td>1</td>\n",
              "      <td>0.2890</td>\n",
              "      <td>75.044</td>\n",
              "      <td>4.0</td>\n",
              "      <td>0.173</td>\n",
              "      <td>Future</td>\n",
              "      <td>449</td>\n",
              "    </tr>\n",
              "    <tr>\n",
              "      <th>3</th>\n",
              "      <td>0.6040</td>\n",
              "      <td>0.494</td>\n",
              "      <td>199413</td>\n",
              "      <td>0.338</td>\n",
              "      <td>0.510000</td>\n",
              "      <td>5</td>\n",
              "      <td>0.0922</td>\n",
              "      <td>-15.236</td>\n",
              "      <td>1</td>\n",
              "      <td>0.0261</td>\n",
              "      <td>86.468</td>\n",
              "      <td>4.0</td>\n",
              "      <td>0.230</td>\n",
              "      <td>Beach House</td>\n",
              "      <td>95</td>\n",
              "    </tr>\n",
              "    <tr>\n",
              "      <th>4</th>\n",
              "      <td>0.1800</td>\n",
              "      <td>0.678</td>\n",
              "      <td>392893</td>\n",
              "      <td>0.561</td>\n",
              "      <td>0.512000</td>\n",
              "      <td>5</td>\n",
              "      <td>0.4390</td>\n",
              "      <td>-11.648</td>\n",
              "      <td>0</td>\n",
              "      <td>0.0694</td>\n",
              "      <td>174.004</td>\n",
              "      <td>4.0</td>\n",
              "      <td>0.904</td>\n",
              "      <td>Junior Boys</td>\n",
              "      <td>628</td>\n",
              "    </tr>\n",
              "  </tbody>\n",
              "</table>\n",
              "</div>"
            ],
            "text/plain": [
              "   acousticness  danceability  ...            artist  artista_inteiro\n",
              "0        0.0102         0.833  ...            Future              449\n",
              "1        0.1990         0.743  ...  Childish Gambino              222\n",
              "2        0.0344         0.838  ...            Future              449\n",
              "3        0.6040         0.494  ...       Beach House               95\n",
              "4        0.1800         0.678  ...       Junior Boys              628\n",
              "\n",
              "[5 rows x 15 columns]"
            ]
          },
          "metadata": {
            "tags": []
          },
          "execution_count": 11
        }
      ]
    },
    {
      "cell_type": "code",
      "metadata": {
        "id": "Ofb-KGfvLjZy"
      },
      "source": [
        "#removendo a coluna artist str\n",
        "df_spotify.drop('artist', axis=1, inplace=True)"
      ],
      "execution_count": null,
      "outputs": []
    },
    {
      "cell_type": "markdown",
      "metadata": {
        "id": "HIEfB4SjaXby"
      },
      "source": [
        "# SVM (Support Vector Machine)"
      ]
    },
    {
      "cell_type": "markdown",
      "metadata": {
        "id": "fZK-Vo_waisR"
      },
      "source": [
        "* Com nossos dados já processados vamos para a parte do modelo de machine learning.\r\n",
        "\r\n",
        "* O modelo escolhido foi o SVM que é um algoritmo de aprendizado supervisionado que pode ser usado tanto para problemas de classificação como de regressão.\r\n",
        "\r\n",
        "* Basicamente o SVM cria uma fronteira separando os dados da melhor forma, esta fronteira é chamada de hiperplano.\r\n",
        "\r\n",
        "* Após traçar o hiperplano os valores mais próximos deles serão nossos Vetores de suporte e baseados neles nosso algoritmo irá classificar nossos dados.\r\n",
        "\r\n",
        "* Para mais informações sobre o SVM acesse este [link](https://towardsdatascience.com/support-vector-machines-svm-c9ef22815589).\r\n",
        "\r\n",
        "\r\n"
      ]
    },
    {
      "cell_type": "markdown",
      "metadata": {
        "id": "rfKRc-a8e1fw"
      },
      "source": [
        "![svm_1.png](data:image/png;base64,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)\r\n",
        "\r\n",
        "Imagrem retirada do site [towardsdatascience.com](https://towardsdatascience.com/support-vector-machines-svm-c9ef22815589)"
      ]
    },
    {
      "cell_type": "markdown",
      "metadata": {
        "id": "6Ng3MUT1fjOU"
      },
      "source": [
        "Após escolhermos nosso modelo vamos criar pipelines para automatizar nossos testes nos dando tempo e um código mais limpo."
      ]
    },
    {
      "cell_type": "markdown",
      "metadata": {
        "id": "cP2JXvTgL8-u"
      },
      "source": [
        "# Pipelines\r\n",
        "\r\n",
        "### Os pipelines funcionam como uma forma de encapsulamento de código automatizando os testes nos códigos de Machine Learning."
      ]
    },
    {
      "cell_type": "code",
      "metadata": {
        "id": "z0CQKIkWLyUL"
      },
      "source": [
        "# importando o modelo\n",
        "from sklearn import svm\n",
        "from sklearn.pipeline import Pipeline\n",
        "from sklearn.preprocessing import StandardScaler\n",
        "from sklearn.preprocessing import MinMaxScaler"
      ],
      "execution_count": null,
      "outputs": []
    },
    {
      "cell_type": "code",
      "metadata": {
        "id": "0LGzfqujHEOD",
        "colab": {
          "base_uri": "https://localhost:8080/"
        },
        "outputId": "8e2df3b1-c456-4890-e0b9-9c17d58e6ce5"
      },
      "source": [
        "#treinando o modelo\n",
        "clf = svm.SVC()\n",
        "clf.fit(df_spotify, classes)"
      ],
      "execution_count": null,
      "outputs": [
        {
          "output_type": "execute_result",
          "data": {
            "text/plain": [
              "SVC(C=1.0, break_ties=False, cache_size=200, class_weight=None, coef0=0.0,\n",
              "    decision_function_shape='ovr', degree=3, gamma='scale', kernel='rbf',\n",
              "    max_iter=-1, probability=False, random_state=None, shrinking=True,\n",
              "    tol=0.001, verbose=False)"
            ]
          },
          "metadata": {
            "tags": []
          },
          "execution_count": 14
        }
      ]
    },
    {
      "cell_type": "code",
      "metadata": {
        "id": "TAHopiU6DF7a"
      },
      "source": [
        "# Criando o primeiro Pipeline\n",
        "pip_1 = Pipeline([\n",
        "    ('scaler',StandardScaler()),\n",
        "    ('clf', svm.SVC())\n",
        "])"
      ],
      "execution_count": null,
      "outputs": []
    },
    {
      "cell_type": "code",
      "metadata": {
        "id": "9PYEu6VjF8TI",
        "colab": {
          "base_uri": "https://localhost:8080/"
        },
        "outputId": "af50f0a9-7653-4ef1-e8c3-7f727e4f9ecc"
      },
      "source": [
        "#passos do pipeline 1\n",
        "pip_1.steps"
      ],
      "execution_count": null,
      "outputs": [
        {
          "output_type": "execute_result",
          "data": {
            "text/plain": [
              "[('scaler', StandardScaler(copy=True, with_mean=True, with_std=True)),\n",
              " ('clf',\n",
              "  SVC(C=1.0, break_ties=False, cache_size=200, class_weight=None, coef0=0.0,\n",
              "      decision_function_shape='ovr', degree=3, gamma='scale', kernel='rbf',\n",
              "      max_iter=-1, probability=False, random_state=None, shrinking=True,\n",
              "      tol=0.001, verbose=False))]"
            ]
          },
          "metadata": {
            "tags": []
          },
          "execution_count": 16
        }
      ]
    },
    {
      "cell_type": "code",
      "metadata": {
        "id": "umSJv4AgoqXd"
      },
      "source": [
        "# Criando pipelines\n",
        "pip_2 = Pipeline([\n",
        "                  ('min_max_scaler',MinMaxScaler()),\n",
        "                  ('clf', svm.SVC())\n",
        "])\n",
        "\n",
        "pip_3 = Pipeline([\n",
        "                  ('scaler', StandardScaler()),\n",
        "                  ('clf', svm.SVC(kernel='sigmoid'))\n",
        "])\n",
        "\n",
        "pip_4 = Pipeline([\n",
        "                  ('scaler', StandardScaler()),\n",
        "                  ('clf', svm.SVC(kernel='poly'))\n",
        "])\n",
        "\n",
        "pip_5 = Pipeline([\n",
        "                  ('scaler', StandardScaler()),\n",
        "                  ('clf', svm.SVC(kernel='linear'))\n",
        "])"
      ],
      "execution_count": null,
      "outputs": []
    },
    {
      "cell_type": "code",
      "metadata": {
        "id": "dqRAq9dro_UE",
        "colab": {
          "base_uri": "https://localhost:8080/"
        },
        "outputId": "16ef53fc-d5f0-4456-c84d-c7d79ef03b9a"
      },
      "source": [
        "#passos do pipeline 2\n",
        "pip_2.steps"
      ],
      "execution_count": null,
      "outputs": [
        {
          "output_type": "execute_result",
          "data": {
            "text/plain": [
              "[('min_max_scaler', MinMaxScaler(copy=True, feature_range=(0, 1))),\n",
              " ('clf',\n",
              "  SVC(C=1.0, break_ties=False, cache_size=200, class_weight=None, coef0=0.0,\n",
              "      decision_function_shape='ovr', degree=3, gamma='scale', kernel='rbf',\n",
              "      max_iter=-1, probability=False, random_state=None, shrinking=True,\n",
              "      tol=0.001, verbose=False))]"
            ]
          },
          "metadata": {
            "tags": []
          },
          "execution_count": 18
        }
      ]
    },
    {
      "cell_type": "markdown",
      "metadata": {
        "id": "h53ple5Cp5zb"
      },
      "source": [
        "# Validação Cruzada\r\n",
        "\r\n",
        "A [validação cruzada](https://pt.wikipedia.org/wiki/Valida%C3%A7%C3%A3o_cruzada) é uma técnica para avaliar a capacidade de generalização de um modelo, a partir de um conjunto de dados. Esta técnica é amplamente empregada em problemas onde o objetivo da modelagem é a predição. Busca-se então estimar o quão preciso é este modelo na prática, ou seja, o seu desempenho para um novo conjunto de dados."
      ]
    },
    {
      "cell_type": "code",
      "metadata": {
        "id": "LHPGqOHfpBtJ",
        "colab": {
          "base_uri": "https://localhost:8080/"
        },
        "outputId": "d62e82de-86c0-4a44-d964-9892463a1fc7"
      },
      "source": [
        "#com o pipeline 1 obtivemos uma acuracia de 71% no modelo\n",
        "from sklearn.model_selection import cross_val_predict\n",
        "from sklearn import metrics\n",
        "resultados = cross_val_predict(pip_1, df_spotify, classes, cv=10)\n",
        "print(metrics.accuracy_score(classes, resultados))"
      ],
      "execution_count": null,
      "outputs": [
        {
          "output_type": "stream",
          "text": [
            "0.7149231531978185\n"
          ],
          "name": "stdout"
        }
      ]
    },
    {
      "cell_type": "code",
      "metadata": {
        "id": "k1K2QbA9rQLm",
        "colab": {
          "base_uri": "https://localhost:8080/"
        },
        "outputId": "35c209e3-633d-44f3-a933-940e8256c836"
      },
      "source": [
        "#com o pipeline 2 obtivemos uma porcentagem menor de acuracia\n",
        "resultados2 = cross_val_predict(pip_2, df_spotify, classes, cv=10)\n",
        "print(metrics.accuracy_score(classes, resultados2))"
      ],
      "execution_count": null,
      "outputs": [
        {
          "output_type": "stream",
          "text": [
            "0.6757560733763014\n"
          ],
          "name": "stdout"
        }
      ]
    },
    {
      "cell_type": "code",
      "metadata": {
        "id": "T529J0jQsB7z"
      },
      "source": [
        "#criando uma função para retornar as acuracias\n",
        "def Acuracia(clf, X, y):\n",
        "  resultados = cross_val_predict(clf, X, y, cv=10)\n",
        "  return metrics.accuracy_score(y, resultados)"
      ],
      "execution_count": null,
      "outputs": []
    },
    {
      "cell_type": "code",
      "metadata": {
        "id": "SBqaSkh8tHSu",
        "colab": {
          "base_uri": "https://localhost:8080/"
        },
        "outputId": "950850ea-0419-4444-a4a8-12f0175bec64"
      },
      "source": [
        "Acuracia(pip_5, df_spotify, classes)"
      ],
      "execution_count": null,
      "outputs": [
        {
          "output_type": "execute_result",
          "data": {
            "text/plain": [
              "0.6236985622211205"
            ]
          },
          "metadata": {
            "tags": []
          },
          "execution_count": 22
        }
      ]
    },
    {
      "cell_type": "markdown",
      "metadata": {
        "id": "5f0SJ_AuusS7"
      },
      "source": [
        "# Teste de Overfitting\r\n",
        "\r\n",
        "[Overfitting](https://pt.wikipedia.org/wiki/Sobreajuste) é um termo usado em estatística para descrever quando um modelo estatístico se ajusta muito bem ao conjunto de dados anteriormente observado, mas se mostra ineficaz para prever novos resultados."
      ]
    },
    {
      "cell_type": "code",
      "metadata": {
        "id": "-ubYD9b-uLgh"
      },
      "source": [
        "from sklearn.model_selection import train_test_split\n",
        "X_train, X_test, y_train, y_test = train_test_split(df_spotify, classes, test_size=0.2, random_state=123)"
      ],
      "execution_count": null,
      "outputs": []
    },
    {
      "cell_type": "code",
      "metadata": {
        "id": "8kNm4sndvVPi"
      },
      "source": [
        "#escala os dados de treino e teste\n",
        "scaler = StandardScaler().fit(X_train)\n",
        "X_train = scaler.transform(X_train)\n",
        "\n",
        "scaler2 = StandardScaler().fit(X_test)\n",
        "X_test = scaler2.transform(X_test)"
      ],
      "execution_count": null,
      "outputs": []
    },
    {
      "cell_type": "code",
      "metadata": {
        "id": "MjHh8b8FwJPT",
        "colab": {
          "base_uri": "https://localhost:8080/",
          "height": 85
        },
        "outputId": "f5612d54-e30e-46c5-bd38-8b6f87075784"
      },
      "source": [
        "#treinando o algoritmo\n",
        "clf.fit(X_train, y_train)"
      ],
      "execution_count": null,
      "outputs": [
        {
          "output_type": "execute_result",
          "data": {
            "text/plain": [
              "SVC(C=1.0, break_ties=False, cache_size=200, class_weight=None, coef0=0.0,\n",
              "    decision_function_shape='ovr', degree=3, gamma='scale', kernel='rbf',\n",
              "    max_iter=-1, probability=False, random_state=None, shrinking=True,\n",
              "    tol=0.001, verbose=False)"
            ]
          },
          "metadata": {
            "tags": []
          },
          "execution_count": 25
        }
      ]
    },
    {
      "cell_type": "code",
      "metadata": {
        "id": "7pjfAG4wB_6d",
        "colab": {
          "base_uri": "https://localhost:8080/",
          "height": 340
        },
        "outputId": "f617fefe-c361-4579-bb8f-8f4e4b862085"
      },
      "source": [
        "#prevendo\n",
        "y_pred = clf.predict(X_test)\n",
        "y_pred"
      ],
      "execution_count": null,
      "outputs": [
        {
          "output_type": "execute_result",
          "data": {
            "text/plain": [
              "array([0, 1, 0, 0, 0, 1, 1, 0, 0, 0, 1, 0, 0, 0, 0, 0, 1, 0, 0, 0, 0, 1,\n",
              "       0, 0, 0, 0, 0, 0, 1, 0, 1, 0, 0, 1, 0, 0, 0, 0, 0, 1, 0, 0, 1, 0,\n",
              "       0, 1, 0, 0, 1, 0, 1, 0, 1, 1, 0, 0, 0, 1, 1, 0, 1, 0, 0, 1, 1, 0,\n",
              "       0, 0, 1, 0, 0, 1, 1, 0, 0, 1, 0, 0, 1, 0, 0, 1, 0, 0, 0, 0, 0, 0,\n",
              "       1, 1, 1, 1, 0, 1, 0, 1, 0, 0, 0, 1, 1, 0, 1, 1, 1, 0, 1, 0, 1, 0,\n",
              "       1, 0, 0, 1, 1, 1, 0, 1, 0, 1, 1, 0, 0, 1, 1, 0, 1, 0, 1, 0, 0, 1,\n",
              "       0, 1, 0, 1, 0, 1, 1, 1, 0, 0, 1, 0, 0, 0, 0, 0, 0, 1, 1, 1, 0, 0,\n",
              "       1, 1, 0, 1, 0, 0, 1, 0, 0, 1, 1, 0, 1, 0, 0, 0, 0, 1, 0, 0, 1, 0,\n",
              "       0, 1, 0, 0, 0, 1, 0, 0, 1, 0, 1, 0, 1, 1, 0, 0, 0, 0, 0, 0, 1, 0,\n",
              "       1, 1, 1, 0, 1, 1, 1, 0, 0, 0, 1, 0, 0, 0, 0, 0, 0, 1, 1, 0, 0, 0,\n",
              "       0, 0, 0, 1, 1, 1, 1, 0, 0, 1, 1, 0, 0, 0, 1, 1, 1, 1, 1, 1, 0, 1,\n",
              "       0, 0, 1, 0, 1, 1, 1, 0, 1, 0, 0, 1, 1, 0, 0, 1, 0, 0, 1, 1, 1, 0,\n",
              "       1, 1, 0, 0, 1, 1, 1, 0, 1, 0, 0, 1, 0, 0, 1, 1, 0, 1, 1, 0, 0, 0,\n",
              "       0, 0, 1, 0, 1, 1, 1, 1, 0, 0, 0, 0, 0, 0, 0, 0, 0, 1, 0, 1, 0, 0,\n",
              "       0, 0, 1, 0, 1, 0, 1, 0, 1, 1, 1, 0, 1, 0, 1, 0, 1, 1, 0, 0, 0, 0,\n",
              "       0, 0, 1, 1, 0, 1, 1, 0, 0, 1, 1, 1, 1, 0, 1, 1, 0, 1, 1, 0, 0, 1,\n",
              "       0, 0, 0, 1, 0, 0, 0, 0, 1, 0, 0, 1, 0, 1, 1, 1, 0, 0, 0, 0, 0, 0,\n",
              "       0, 0, 0, 1, 1, 1, 0, 1, 0, 1, 0, 1, 0, 0, 0, 1, 1, 1, 0, 0, 1, 0,\n",
              "       0, 0, 1, 1, 1, 1, 1, 0])"
            ]
          },
          "metadata": {
            "tags": []
          },
          "execution_count": 26
        }
      ]
    },
    {
      "cell_type": "code",
      "metadata": {
        "id": "iPhQGNe4CJp8",
        "colab": {
          "base_uri": "https://localhost:8080/",
          "height": 34
        },
        "outputId": "8fa126c8-ea6d-4d71-d0b8-108aa1e8b9b8"
      },
      "source": [
        "#imprimindo a acuracia\n",
        "metrics.accuracy_score(y_test, y_pred)"
      ],
      "execution_count": null,
      "outputs": [
        {
          "output_type": "execute_result",
          "data": {
            "text/plain": [
              "0.7351485148514851"
            ]
          },
          "metadata": {
            "tags": []
          },
          "execution_count": 27
        }
      ]
    },
    {
      "cell_type": "code",
      "metadata": {
        "id": "OLbNvi2lCW4t",
        "colab": {
          "base_uri": "https://localhost:8080/",
          "height": 34
        },
        "outputId": "74da8b2f-e65a-49a7-ade2-e3d32d8ed98c"
      },
      "source": [
        "#testando a classificação com o proprio teste\n",
        "y_pred2 = clf.predict(X_train)\n",
        "y_pred2"
      ],
      "execution_count": null,
      "outputs": [
        {
          "output_type": "execute_result",
          "data": {
            "text/plain": [
              "array([0, 1, 1, ..., 0, 0, 0])"
            ]
          },
          "metadata": {
            "tags": []
          },
          "execution_count": 28
        }
      ]
    },
    {
      "cell_type": "code",
      "metadata": {
        "id": "rsz9RTukCy0w",
        "colab": {
          "base_uri": "https://localhost:8080/",
          "height": 34
        },
        "outputId": "41fbb6f5-c4cb-4fa1-f7ba-d7587dc7186e"
      },
      "source": [
        "metrics.accuracy_score(y_train, y_pred2)"
      ],
      "execution_count": null,
      "outputs": [
        {
          "output_type": "execute_result",
          "data": {
            "text/plain": [
              "0.815251084934904"
            ]
          },
          "metadata": {
            "tags": []
          },
          "execution_count": 29
        }
      ]
    },
    {
      "cell_type": "markdown",
      "metadata": {
        "id": "0z2MnqmUmcTo"
      },
      "source": [
        "# Tunning do modelo usando o gridsearch"
      ]
    },
    {
      "cell_type": "code",
      "metadata": {
        "id": "6W6Hu1z7mXwO"
      },
      "source": [
        "from sklearn.model_selection import GridSearchCV"
      ],
      "execution_count": null,
      "outputs": []
    },
    {
      "cell_type": "code",
      "metadata": {
        "id": "VrjRwXIHm3Ca"
      },
      "source": [
        "#criando valores para o c e para o gamma\n",
        "lista_c = [0.001, 0.01, 0.1, 1, 10,100]\n",
        "lista_gamma = [0.001, 0.01, 0.1, 1, 10, 100]"
      ],
      "execution_count": null,
      "outputs": []
    },
    {
      "cell_type": "code",
      "metadata": {
        "id": "i7C0Yp4cnIST"
      },
      "source": [
        "parametros_grid = dict(clf__C=lista_c, clf__gamma=lista_gamma)"
      ],
      "execution_count": null,
      "outputs": []
    },
    {
      "cell_type": "code",
      "metadata": {
        "id": "CwLZC8uDnhUS"
      },
      "source": [
        "grid = GridSearchCV(pip_1, parametros_grid, scoring='accuracy', cv=10)"
      ],
      "execution_count": null,
      "outputs": []
    },
    {
      "cell_type": "code",
      "metadata": {
        "id": "Njimswjwn5VJ",
        "colab": {
          "base_uri": "https://localhost:8080/",
          "height": 391
        },
        "outputId": "08e5d7eb-5f80-4521-b4d0-6d08783caf1a"
      },
      "source": [
        "grid.fit(df_spotify, classes)"
      ],
      "execution_count": null,
      "outputs": [
        {
          "output_type": "execute_result",
          "data": {
            "text/plain": [
              "GridSearchCV(cv=10, error_score=nan,\n",
              "             estimator=Pipeline(memory=None,\n",
              "                                steps=[('scaler',\n",
              "                                        StandardScaler(copy=True,\n",
              "                                                       with_mean=True,\n",
              "                                                       with_std=True)),\n",
              "                                       ('clf',\n",
              "                                        SVC(C=1.0, break_ties=False,\n",
              "                                            cache_size=200, class_weight=None,\n",
              "                                            coef0=0.0,\n",
              "                                            decision_function_shape='ovr',\n",
              "                                            degree=3, gamma='scale',\n",
              "                                            kernel='rbf', max_iter=-1,\n",
              "                                            probability=False,\n",
              "                                            random_state=None, shrinking=True,\n",
              "                                            tol=0.001, verbose=False))],\n",
              "                                verbose=False),\n",
              "             iid='deprecated', n_jobs=None,\n",
              "             param_grid={'clf__C': [0.001, 0.01, 0.1, 1, 10, 100],\n",
              "                         'clf__gamma': [0.001, 0.01, 0.1, 1, 10, 100]},\n",
              "             pre_dispatch='2*n_jobs', refit=True, return_train_score=False,\n",
              "             scoring='accuracy', verbose=0)"
            ]
          },
          "metadata": {
            "tags": []
          },
          "execution_count": 49
        }
      ]
    },
    {
      "cell_type": "markdown",
      "metadata": {
        "id": "pLqU_fFVpkYn"
      },
      "source": [
        "### Resultados GridSearch"
      ]
    },
    {
      "cell_type": "code",
      "metadata": {
        "id": "_T3SztoUoG0j",
        "colab": {
          "base_uri": "https://localhost:8080/",
          "height": 34
        },
        "outputId": "1f140423-2b60-429c-9c2a-872d0f9aec64"
      },
      "source": [
        "grid.best_params_"
      ],
      "execution_count": null,
      "outputs": [
        {
          "output_type": "execute_result",
          "data": {
            "text/plain": [
              "{'clf__C': 100, 'clf__gamma': 0.01}"
            ]
          },
          "metadata": {
            "tags": []
          },
          "execution_count": 41
        }
      ]
    },
    {
      "cell_type": "code",
      "metadata": {
        "id": "WJoaQe99pxyD",
        "colab": {
          "base_uri": "https://localhost:8080/",
          "height": 34
        },
        "outputId": "b9aba4fe-c87a-484e-dd7f-98af3b98f1e9"
      },
      "source": [
        "grid.best_score_"
      ],
      "execution_count": null,
      "outputs": [
        {
          "output_type": "execute_result",
          "data": {
            "text/plain": [
              "0.720858578395153"
            ]
          },
          "metadata": {
            "tags": []
          },
          "execution_count": 42
        }
      ]
    },
    {
      "cell_type": "markdown",
      "metadata": {
        "id": "9IUdOgnnsHL-"
      },
      "source": [
        "### Aplicando os melhores valores e avaliando o modelo"
      ]
    },
    {
      "cell_type": "code",
      "metadata": {
        "id": "MjtM0p2LsNB3"
      },
      "source": [
        "pip_6 = Pipeline([\n",
        "                  ('scaler', StandardScaler()),\n",
        "                  ('clf', svm.SVC(C=100, gamma=0.01, kernel='rbf'))\n",
        "\n",
        "])"
      ],
      "execution_count": null,
      "outputs": []
    },
    {
      "cell_type": "code",
      "metadata": {
        "id": "ZGfVNpJMsqVI",
        "colab": {
          "base_uri": "https://localhost:8080/",
          "height": 34
        },
        "outputId": "ca672a25-6295-4e54-bf52-28e6a8604899"
      },
      "source": [
        "resultados = cross_val_predict(pip_6, df_spotify, classes, cv=10)\n",
        "resultados"
      ],
      "execution_count": null,
      "outputs": [
        {
          "output_type": "execute_result",
          "data": {
            "text/plain": [
              "array([1, 1, 1, ..., 0, 1, 0])"
            ]
          },
          "metadata": {
            "tags": []
          },
          "execution_count": 54
        }
      ]
    },
    {
      "cell_type": "code",
      "metadata": {
        "id": "piLBz4oQtBWM",
        "colab": {
          "base_uri": "https://localhost:8080/",
          "height": 170
        },
        "outputId": "79d88144-6c21-4cfa-e4a4-920e2370cf93"
      },
      "source": [
        "print(metrics.classification_report(classes, resultados))"
      ],
      "execution_count": null,
      "outputs": [
        {
          "output_type": "stream",
          "text": [
            "              precision    recall  f1-score   support\n",
            "\n",
            "           0       0.71      0.75      0.73       997\n",
            "           1       0.74      0.70      0.72      1020\n",
            "\n",
            "    accuracy                           0.72      2017\n",
            "   macro avg       0.72      0.72      0.72      2017\n",
            "weighted avg       0.72      0.72      0.72      2017\n",
            "\n"
          ],
          "name": "stdout"
        }
      ]
    },
    {
      "cell_type": "markdown",
      "metadata": {
        "id": "6Kbs4s9X4eY-"
      },
      "source": [
        "Após realizarmos todos as etapas de tunning do algoritmo usando a técnica GridSearch é possível identificarmos que depois que encontramos os melhores parâmetros de treino obtivemos um modelo com uma precisão de 71% e uma acurácia de 72% que são valores muito bons para o nosso classificador."
      ]
    },
    {
      "cell_type": "markdown",
      "metadata": {
        "id": "8V0wLMrf5w-y"
      },
      "source": [
        "Muito obrigado pela leitura deste notebook!\r\n",
        "\r\n",
        "[Linkedin](https://www.linkedin.com/in/danilo-felipe-neto-972b45120/)\r\n",
        "\r\n",
        "[GitHub](https://github.com/danilofneto)\r\n",
        "\r\n",
        "[Medium](https://medium.com/@danilofelipeneto)"
      ]
    }
  ]
}